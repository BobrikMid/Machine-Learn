{
 "cells": [
  {
   "cell_type": "code",
   "execution_count": 3,
   "id": "f866d24f-25f0-4d36-aeef-771cfe548622",
   "metadata": {},
   "outputs": [
    {
     "data": {
      "text/plain": [
       "0"
      ]
     },
     "execution_count": 3,
     "metadata": {},
     "output_type": "execute_result"
    }
   ],
   "source": [
    "import os\n",
    "os.system('pip install surprise')"
   ]
  },
  {
   "cell_type": "code",
   "execution_count": 5,
   "id": "a6ac1513-9a15-4ff3-9c84-40e3216c8a6e",
   "metadata": {},
   "outputs": [
    {
     "name": "stdout",
     "output_type": "stream",
     "text": [
      "Dataset ml-100k could not be found. Do you want to download it? [Y/n] "
     ]
    },
    {
     "name": "stdin",
     "output_type": "stream",
     "text": [
      " y\n"
     ]
    },
    {
     "name": "stdout",
     "output_type": "stream",
     "text": [
      "Trying to download dataset from https://files.grouplens.org/datasets/movielens/ml-100k.zip...\n",
      "Done! Dataset ml-100k has been saved to C:\\Users\\faika/.surprise_data/ml-100k\n",
      "User: 0, Item: 0, Rating: 3.0\n",
      "User: 0, Item: 528, Rating: 4.0\n",
      "User: 0, Item: 377, Rating: 4.0\n",
      "User: 0, Item: 522, Rating: 3.0\n",
      "User: 0, Item: 431, Rating: 5.0\n"
     ]
    }
   ],
   "source": [
    "from surprise import Dataset\n",
    "data = Dataset.load_builtin('ml-100k')\n",
    "\n",
    "trainset = data.build_full_trainset()\n",
    "for i, (uid, iid, rating) in enumerate(trainset.all_ratings()):\n",
    "    if i < 5:\n",
    "        print(f\"User: {uid}, Item: {iid}, Rating: {rating}\")"
   ]
  },
  {
   "cell_type": "code",
   "execution_count": 7,
   "id": "628b8e16-1da3-4996-bb0b-853cfa8195c4",
   "metadata": {},
   "outputs": [
    {
     "name": "stdout",
     "output_type": "stream",
     "text": [
      "Cross-validation for SVD:\n",
      "Evaluating MAE of algorithm SVD on 5 split(s).\n",
      "\n",
      "                  Fold 1  Fold 2  Fold 3  Fold 4  Fold 5  Mean    Std     \n",
      "MAE (testset)     0.7357  0.7319  0.7389  0.7346  0.7478  0.7378  0.0055  \n",
      "Fit time          0.37    0.35    0.35    0.36    0.40    0.37    0.02    \n",
      "Test time         0.05    0.10    0.05    0.05    0.10    0.07    0.02    \n",
      "\n",
      "Cross-validation for KNNBaseline:\n",
      "Estimating biases using als...\n",
      "Computing the msd similarity matrix...\n",
      "Done computing similarity matrix.\n",
      "Estimating biases using als...\n",
      "Computing the msd similarity matrix...\n",
      "Done computing similarity matrix.\n",
      "Estimating biases using als...\n",
      "Computing the msd similarity matrix...\n",
      "Done computing similarity matrix.\n",
      "Estimating biases using als...\n",
      "Computing the msd similarity matrix...\n",
      "Done computing similarity matrix.\n",
      "Estimating biases using als...\n",
      "Computing the msd similarity matrix...\n",
      "Done computing similarity matrix.\n",
      "Evaluating MAE of algorithm KNNBaseline on 5 split(s).\n",
      "\n",
      "                  Fold 1  Fold 2  Fold 3  Fold 4  Fold 5  Mean    Std     \n",
      "MAE (testset)     0.7300  0.7303  0.7302  0.7376  0.7378  0.7332  0.0037  \n",
      "Fit time          0.23    0.24    0.24    0.24    0.24    0.24    0.00    \n",
      "Test time         1.28    1.34    1.26    1.29    1.24    1.28    0.03    \n"
     ]
    },
    {
     "data": {
      "text/plain": [
       "{'test_mae': array([0.7299564 , 0.7302508 , 0.73018245, 0.73764575, 0.73783459]),\n",
       " 'fit_time': (0.22958159446716309,\n",
       "  0.2375657558441162,\n",
       "  0.2433483600616455,\n",
       "  0.23595333099365234,\n",
       "  0.23600292205810547),\n",
       " 'test_time': (1.2819154262542725,\n",
       "  1.33559250831604,\n",
       "  1.257181167602539,\n",
       "  1.2909514904022217,\n",
       "  1.2350094318389893)}"
      ]
     },
     "execution_count": 7,
     "metadata": {},
     "output_type": "execute_result"
    }
   ],
   "source": [
    "from surprise import SVD, KNNBaseline\n",
    "from surprise.model_selection import cross_validate\n",
    "\n",
    "algo_svd = SVD()\n",
    "algo_knn = KNNBaseline()\n",
    "\n",
    "print(\"Cross-validation for SVD:\")\n",
    "cross_validate(algo_svd, data, measures=['MAE'], cv=5, verbose=True)\n",
    "\n",
    "print(\"\\nCross-validation for KNNBaseline:\")\n",
    "cross_validate(algo_knn, data, measures=['MAE'], cv=5, verbose=True)"
   ]
  },
  {
   "cell_type": "code",
   "execution_count": 9,
   "id": "a463edbd-3bac-4f17-b653-2c2c3b076ecd",
   "metadata": {},
   "outputs": [
    {
     "name": "stdout",
     "output_type": "stream",
     "text": [
      "Estimating biases using als...\n",
      "Computing the msd similarity matrix...\n",
      "Done computing similarity matrix.\n",
      "Estimating biases using als...\n",
      "Computing the msd similarity matrix...\n",
      "Done computing similarity matrix.\n",
      "Estimating biases using als...\n",
      "Computing the msd similarity matrix...\n",
      "Done computing similarity matrix.\n",
      "Estimating biases using als...\n",
      "Computing the msd similarity matrix...\n",
      "Done computing similarity matrix.\n",
      "Estimating biases using als...\n",
      "Computing the msd similarity matrix...\n",
      "Done computing similarity matrix.\n",
      "Estimating biases using als...\n",
      "Computing the msd similarity matrix...\n",
      "Done computing similarity matrix.\n",
      "Estimating biases using als...\n",
      "Computing the msd similarity matrix...\n",
      "Done computing similarity matrix.\n",
      "Estimating biases using als...\n",
      "Computing the msd similarity matrix...\n",
      "Done computing similarity matrix.\n",
      "Estimating biases using als...\n",
      "Computing the msd similarity matrix...\n",
      "Done computing similarity matrix.\n",
      "Estimating biases using als...\n",
      "Computing the msd similarity matrix...\n",
      "Done computing similarity matrix.\n",
      "Estimating biases using als...\n",
      "Computing the msd similarity matrix...\n",
      "Done computing similarity matrix.\n",
      "Estimating biases using als...\n",
      "Computing the msd similarity matrix...\n",
      "Done computing similarity matrix.\n",
      "Best SVD params: {'n_factors': 50, 'lr_all': 0.01, 'reg_all': 0.05}\n",
      "Best KNN params: {'k': 40, 'min_k': 5}\n"
     ]
    }
   ],
   "source": [
    "from surprise.model_selection import GridSearchCV\n",
    "\n",
    "param_grid_svd = {'n_factors': [50, 100], 'lr_all': [0.005, 0.01], 'reg_all': [0.02, 0.05]}\n",
    "param_grid_knn = {'k': [20, 40], 'min_k': [1, 5]}\n",
    "\n",
    "gs_svd = GridSearchCV(SVD, param_grid_svd, measures=['mae'], cv=3)\n",
    "gs_svd.fit(data)\n",
    "\n",
    "gs_knn = GridSearchCV(KNNBaseline, param_grid_knn, measures=['mae'], cv=3)\n",
    "gs_knn.fit(data)\n",
    "\n",
    "print(f\"Best SVD params: {gs_svd.best_params['mae']}\")\n",
    "print(f\"Best KNN params: {gs_knn.best_params['mae']}\")"
   ]
  },
  {
   "cell_type": "code",
   "execution_count": 11,
   "id": "2d85aad7-6e89-4e6f-b57e-28839405600d",
   "metadata": {},
   "outputs": [
    {
     "name": "stdout",
     "output_type": "stream",
     "text": [
      "Best algorithm is SVD with MAE: 0.7345788038471651\n"
     ]
    }
   ],
   "source": [
    "if gs_svd.best_score['mae'] < gs_knn.best_score['mae']:\n",
    "    best_algo = gs_svd.best_estimator['mae']\n",
    "    print(f\"Best algorithm is SVD with MAE: {gs_svd.best_score['mae']}\")\n",
    "else:\n",
    "    best_algo = gs_knn.best_estimator['mae']\n",
    "    print(f\"Best algorithm is KNNBaseline with MAE: {gs_knn.best_score['mae']}\")"
   ]
  },
  {
   "cell_type": "code",
   "execution_count": 17,
   "id": "e17347d7-a175-4cdc-a2c0-7b06c87564f0",
   "metadata": {},
   "outputs": [
    {
     "name": "stdout",
     "output_type": "stream",
     "text": [
      "Top 10 recommended items for user 196:\n",
      "(239, 4.6656409319191265)\n",
      "(200, 4.656459741377527)\n",
      "(189, 4.617439183434073)\n",
      "(569, 4.589609397053106)\n",
      "(359, 4.546539598328852)\n",
      "(31, 4.516932124336967)\n",
      "(78, 4.512721047925106)\n",
      "(719, 4.4939508023522015)\n",
      "(254, 4.48975458339188)\n",
      "(361, 4.478988846995685)\n"
     ]
    }
   ],
   "source": [
    "trainset = data.build_full_trainset()\n",
    "best_algo.fit(trainset)\n",
    "\n",
    "user_id = str(196)\n",
    "items = trainset.all_items()\n",
    "\n",
    "recommendations = []\n",
    "for item_id in items:\n",
    "    predictions = best_algo.predict(user_id, trainset.to_raw_iid(item_id))\n",
    "    recommendations.append((item_id, predictions.est))\n",
    "\n",
    "recommendations.sort(key=lambda x: x[1], reverse=True)\n",
    "top_10 = recommendations[:10]\n",
    "\n",
    "print(\"Top 10 recommended items for user 196:\")\n",
    "for item in top_10:\n",
    "    print(item)"
   ]
  },
  {
   "cell_type": "markdown",
   "id": "e0a0200a-4491-462d-8115-9475de846bad",
   "metadata": {},
   "source": [
    "Завдання 2"
   ]
  },
  {
   "cell_type": "code",
   "execution_count": 37,
   "id": "b68afd05-9fab-4d85-b7f6-d939c5e348b5",
   "metadata": {},
   "outputs": [
    {
     "name": "stdout",
     "output_type": "stream",
     "text": [
      "Top 10 recommended movies for user 196:\n",
      "Movie ID: 318, Predicted Rating: 4.81\n",
      "Movie ID: 114, Predicted Rating: 4.76\n",
      "Movie ID: 187, Predicted Rating: 4.73\n",
      "Movie ID: 483, Predicted Rating: 4.62\n",
      "Movie ID: 251, Predicted Rating: 4.58\n",
      "Movie ID: 169, Predicted Rating: 4.57\n",
      "Movie ID: 357, Predicted Rating: 4.55\n",
      "Movie ID: 190, Predicted Rating: 4.55\n",
      "Movie ID: 127, Predicted Rating: 4.54\n",
      "Movie ID: 657, Predicted Rating: 4.52\n"
     ]
    }
   ],
   "source": [
    "data = Dataset.load_builtin('ml-100k')\n",
    "trainset, testset = train_test_split(data, test_size=0.2)\n",
    "\n",
    "algo = SVD()\n",
    "algo.fit(trainset)\n",
    "\n",
    "predictions = algo.test(testset)\n",
    "\n",
    "def get_top_n_recommendations(algo, user_id, trainset, n=10):\n",
    "    all_items = trainset.all_items()\n",
    "    rated_items = set([iid for (iid, _) in trainset.ur[trainset.to_inner_uid(user_id)]])\n",
    "    \n",
    "    recommendations = []\n",
    "    for iid in all_items:\n",
    "        if iid not in rated_items:\n",
    "            raw_iid = trainset.to_raw_iid(iid)\n",
    "            est_rating = algo.predict(user_id, raw_iid).est\n",
    "            recommendations.append((raw_iid, est_rating))\n",
    "\n",
    "    recommendations.sort(key=lambda x: x[1], reverse=True)\n",
    "\n",
    "    return recommendations[:n]\n",
    "\n",
    "user_id = str(196)\n",
    "top_10_recommendations = get_top_n_recommendations(algo, user_id, trainset)\n",
    "\n",
    "print(f\"Top 10 recommended movies for user {user_id}:\")\n",
    "for movie_id, rating in top_10_recommendations:\n",
    "    print(f\"Movie ID: {movie_id}, Predicted Rating: {rating:.2f}\")"
   ]
  }
 ],
 "metadata": {
  "kernelspec": {
   "display_name": "Python 3 (ipykernel)",
   "language": "python",
   "name": "python3"
  },
  "language_info": {
   "codemirror_mode": {
    "name": "ipython",
    "version": 3
   },
   "file_extension": ".py",
   "mimetype": "text/x-python",
   "name": "python",
   "nbconvert_exporter": "python",
   "pygments_lexer": "ipython3",
   "version": "3.12.4"
  }
 },
 "nbformat": 4,
 "nbformat_minor": 5
}
