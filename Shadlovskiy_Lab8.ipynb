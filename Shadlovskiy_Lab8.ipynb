{
 "cells": [
  {
   "cell_type": "code",
   "execution_count": 3,
   "id": "c8e26313-268a-41e2-bf9d-6e4f9d4436bd",
   "metadata": {},
   "outputs": [],
   "source": [
    "import pandas as pd\n",
    "file_path = r'C:\\Users\\faika\\OneDrive\\Desktop\\mushroom_cleaned.csv'\n",
    "mushroom_data = pd.read_csv(file_path)"
   ]
  },
  {
   "cell_type": "code",
   "execution_count": 5,
   "id": "f76b200f-5755-48f8-a819-9da6ecc6421e",
   "metadata": {},
   "outputs": [
    {
     "name": "stdout",
     "output_type": "stream",
     "text": [
      "   cap-diameter  cap-shape  gill-attachment  gill-color  stem-height  \\\n",
      "0          1372          2                2          10     3.807467   \n",
      "1          1461          2                2          10     3.807467   \n",
      "2          1371          2                2          10     3.612496   \n",
      "3          1261          6                2          10     3.787572   \n",
      "4          1305          6                2          10     3.711971   \n",
      "\n",
      "   stem-width  stem-color    season  class  \n",
      "0        1545          11  1.804273      1  \n",
      "1        1557          11  1.804273      1  \n",
      "2        1566          11  1.804273      1  \n",
      "3        1566          11  1.804273      1  \n",
      "4        1464          11  0.943195      1  \n"
     ]
    }
   ],
   "source": [
    "print(mushroom_data.head())"
   ]
  },
  {
   "cell_type": "code",
   "execution_count": 7,
   "id": "578c32c5-c98b-4f7b-aec5-6eac9ce8cc02",
   "metadata": {},
   "outputs": [
    {
     "data": {
      "text/plain": [
       "(54035, 9)"
      ]
     },
     "execution_count": 7,
     "metadata": {},
     "output_type": "execute_result"
    }
   ],
   "source": [
    "mushroom_data.shape"
   ]
  },
  {
   "cell_type": "code",
   "execution_count": 11,
   "id": "7e465965-3c03-42c2-ac42-623f064d57b7",
   "metadata": {},
   "outputs": [
    {
     "data": {
      "text/plain": [
       "cap-diameter       0\n",
       "cap-shape          0\n",
       "gill-attachment    0\n",
       "gill-color         0\n",
       "stem-height        0\n",
       "stem-width         0\n",
       "stem-color         0\n",
       "season             0\n",
       "class              0\n",
       "dtype: int64"
      ]
     },
     "execution_count": 11,
     "metadata": {},
     "output_type": "execute_result"
    }
   ],
   "source": [
    "mushroom_data.isnull().sum()"
   ]
  },
  {
   "cell_type": "code",
   "execution_count": 13,
   "id": "f012b8b0-ac11-416d-9c8e-52a81b676d9f",
   "metadata": {},
   "outputs": [
    {
     "data": {
      "text/plain": [
       "cap-diameter         int64\n",
       "cap-shape            int64\n",
       "gill-attachment      int64\n",
       "gill-color           int64\n",
       "stem-height        float64\n",
       "stem-width           int64\n",
       "stem-color           int64\n",
       "season             float64\n",
       "class                int64\n",
       "dtype: object"
      ]
     },
     "execution_count": 13,
     "metadata": {},
     "output_type": "execute_result"
    }
   ],
   "source": [
    "mushroom_data.dtypes"
   ]
  },
  {
   "cell_type": "code",
   "execution_count": 15,
   "id": "4b217166-cbd0-4914-baa5-785f01c47ac8",
   "metadata": {},
   "outputs": [
    {
     "data": {
      "text/html": [
       "<div>\n",
       "<style scoped>\n",
       "    .dataframe tbody tr th:only-of-type {\n",
       "        vertical-align: middle;\n",
       "    }\n",
       "\n",
       "    .dataframe tbody tr th {\n",
       "        vertical-align: top;\n",
       "    }\n",
       "\n",
       "    .dataframe thead th {\n",
       "        text-align: right;\n",
       "    }\n",
       "</style>\n",
       "<table border=\"1\" class=\"dataframe\">\n",
       "  <thead>\n",
       "    <tr style=\"text-align: right;\">\n",
       "      <th></th>\n",
       "      <th>cap-diameter</th>\n",
       "      <th>cap-shape</th>\n",
       "      <th>gill-attachment</th>\n",
       "      <th>gill-color</th>\n",
       "      <th>stem-height</th>\n",
       "      <th>stem-width</th>\n",
       "      <th>stem-color</th>\n",
       "      <th>season</th>\n",
       "      <th>class</th>\n",
       "    </tr>\n",
       "  </thead>\n",
       "  <tbody>\n",
       "    <tr>\n",
       "      <th>cap-diameter</th>\n",
       "      <td>1.000000</td>\n",
       "      <td>0.204011</td>\n",
       "      <td>0.200481</td>\n",
       "      <td>0.186377</td>\n",
       "      <td>0.135652</td>\n",
       "      <td>0.828469</td>\n",
       "      <td>0.121856</td>\n",
       "      <td>0.113334</td>\n",
       "      <td>-0.165676</td>\n",
       "    </tr>\n",
       "    <tr>\n",
       "      <th>cap-shape</th>\n",
       "      <td>0.204011</td>\n",
       "      <td>1.000000</td>\n",
       "      <td>0.043066</td>\n",
       "      <td>0.131387</td>\n",
       "      <td>-0.010393</td>\n",
       "      <td>0.222494</td>\n",
       "      <td>0.029035</td>\n",
       "      <td>0.055442</td>\n",
       "      <td>-0.133338</td>\n",
       "    </tr>\n",
       "    <tr>\n",
       "      <th>gill-attachment</th>\n",
       "      <td>0.200481</td>\n",
       "      <td>0.043066</td>\n",
       "      <td>1.000000</td>\n",
       "      <td>0.100276</td>\n",
       "      <td>-0.075284</td>\n",
       "      <td>0.245300</td>\n",
       "      <td>0.020073</td>\n",
       "      <td>-0.040315</td>\n",
       "      <td>-0.052541</td>\n",
       "    </tr>\n",
       "    <tr>\n",
       "      <th>gill-color</th>\n",
       "      <td>0.186377</td>\n",
       "      <td>0.131387</td>\n",
       "      <td>0.100276</td>\n",
       "      <td>1.000000</td>\n",
       "      <td>0.015057</td>\n",
       "      <td>0.110283</td>\n",
       "      <td>0.186090</td>\n",
       "      <td>0.059965</td>\n",
       "      <td>-0.063947</td>\n",
       "    </tr>\n",
       "    <tr>\n",
       "      <th>stem-height</th>\n",
       "      <td>0.135652</td>\n",
       "      <td>-0.010393</td>\n",
       "      <td>-0.075284</td>\n",
       "      <td>0.015057</td>\n",
       "      <td>1.000000</td>\n",
       "      <td>0.098095</td>\n",
       "      <td>0.002624</td>\n",
       "      <td>-0.000292</td>\n",
       "      <td>0.183354</td>\n",
       "    </tr>\n",
       "    <tr>\n",
       "      <th>stem-width</th>\n",
       "      <td>0.828469</td>\n",
       "      <td>0.222494</td>\n",
       "      <td>0.245300</td>\n",
       "      <td>0.110283</td>\n",
       "      <td>0.098095</td>\n",
       "      <td>1.000000</td>\n",
       "      <td>0.157394</td>\n",
       "      <td>0.040679</td>\n",
       "      <td>-0.182856</td>\n",
       "    </tr>\n",
       "    <tr>\n",
       "      <th>stem-color</th>\n",
       "      <td>0.121856</td>\n",
       "      <td>0.029035</td>\n",
       "      <td>0.020073</td>\n",
       "      <td>0.186090</td>\n",
       "      <td>0.002624</td>\n",
       "      <td>0.157394</td>\n",
       "      <td>1.000000</td>\n",
       "      <td>0.010750</td>\n",
       "      <td>-0.128339</td>\n",
       "    </tr>\n",
       "    <tr>\n",
       "      <th>season</th>\n",
       "      <td>0.113334</td>\n",
       "      <td>0.055442</td>\n",
       "      <td>-0.040315</td>\n",
       "      <td>0.059965</td>\n",
       "      <td>-0.000292</td>\n",
       "      <td>0.040679</td>\n",
       "      <td>0.010750</td>\n",
       "      <td>1.000000</td>\n",
       "      <td>-0.082919</td>\n",
       "    </tr>\n",
       "    <tr>\n",
       "      <th>class</th>\n",
       "      <td>-0.165676</td>\n",
       "      <td>-0.133338</td>\n",
       "      <td>-0.052541</td>\n",
       "      <td>-0.063947</td>\n",
       "      <td>0.183354</td>\n",
       "      <td>-0.182856</td>\n",
       "      <td>-0.128339</td>\n",
       "      <td>-0.082919</td>\n",
       "      <td>1.000000</td>\n",
       "    </tr>\n",
       "  </tbody>\n",
       "</table>\n",
       "</div>"
      ],
      "text/plain": [
       "                 cap-diameter  cap-shape  gill-attachment  gill-color  \\\n",
       "cap-diameter         1.000000   0.204011         0.200481    0.186377   \n",
       "cap-shape            0.204011   1.000000         0.043066    0.131387   \n",
       "gill-attachment      0.200481   0.043066         1.000000    0.100276   \n",
       "gill-color           0.186377   0.131387         0.100276    1.000000   \n",
       "stem-height          0.135652  -0.010393        -0.075284    0.015057   \n",
       "stem-width           0.828469   0.222494         0.245300    0.110283   \n",
       "stem-color           0.121856   0.029035         0.020073    0.186090   \n",
       "season               0.113334   0.055442        -0.040315    0.059965   \n",
       "class               -0.165676  -0.133338        -0.052541   -0.063947   \n",
       "\n",
       "                 stem-height  stem-width  stem-color    season     class  \n",
       "cap-diameter        0.135652    0.828469    0.121856  0.113334 -0.165676  \n",
       "cap-shape          -0.010393    0.222494    0.029035  0.055442 -0.133338  \n",
       "gill-attachment    -0.075284    0.245300    0.020073 -0.040315 -0.052541  \n",
       "gill-color          0.015057    0.110283    0.186090  0.059965 -0.063947  \n",
       "stem-height         1.000000    0.098095    0.002624 -0.000292  0.183354  \n",
       "stem-width          0.098095    1.000000    0.157394  0.040679 -0.182856  \n",
       "stem-color          0.002624    0.157394    1.000000  0.010750 -0.128339  \n",
       "season             -0.000292    0.040679    0.010750  1.000000 -0.082919  \n",
       "class               0.183354   -0.182856   -0.128339 -0.082919  1.000000  "
      ]
     },
     "execution_count": 15,
     "metadata": {},
     "output_type": "execute_result"
    }
   ],
   "source": [
    "mushroom_data.corr()"
   ]
  },
  {
   "cell_type": "code",
   "execution_count": 17,
   "id": "9d19a7c7-466c-49ef-a80f-72a383ef64f3",
   "metadata": {},
   "outputs": [
    {
     "data": {
      "text/plain": [
       "cap-diameter      -0.165676\n",
       "cap-shape         -0.133338\n",
       "gill-attachment   -0.052541\n",
       "gill-color        -0.063947\n",
       "stem-height        0.183354\n",
       "stem-width        -0.182856\n",
       "stem-color        -0.128339\n",
       "season            -0.082919\n",
       "class              1.000000\n",
       "Name: class, dtype: float64"
      ]
     },
     "execution_count": 17,
     "metadata": {},
     "output_type": "execute_result"
    }
   ],
   "source": [
    "mushroom_data.corr()['class']"
   ]
  },
  {
   "cell_type": "code",
   "execution_count": 23,
   "id": "ee7c0cf8-8c0e-4112-9ca3-7f4d1cdcce99",
   "metadata": {},
   "outputs": [
    {
     "name": "stdout",
     "output_type": "stream",
     "text": [
      "Random Forest Accuracy: 0.9908087101350934\n",
      "Logistic Regression Accuracy: 0.6350626118067979\n"
     ]
    }
   ],
   "source": [
    "from sklearn.model_selection import train_test_split\n",
    "from sklearn.ensemble import RandomForestClassifier\n",
    "from sklearn.linear_model import LogisticRegression\n",
    "from sklearn.metrics import confusion_matrix, classification_report, accuracy_score\n",
    "X = mushroom_data.drop(columns='class')\n",
    "y = mushroom_data['class']\n",
    "\n",
    "X_train, X_test, y_train, y_test = train_test_split(X, y, test_size=0.3, random_state=42)\n",
    "\n",
    "rf_model = RandomForestClassifier()\n",
    "rf_model.fit(X_train, y_train)\n",
    "rf_pred = rf_model.predict(X_test)\n",
    "\n",
    "lr_model = LogisticRegression(max_iter=1000)\n",
    "lr_model.fit(X_train, y_train)\n",
    "lr_pred = lr_model.predict(X_test)\n",
    "\n",
    "rf_accuracy = accuracy_score(y_test, rf_pred)\n",
    "lr_accuracy = accuracy_score(y_test, lr_pred)\n",
    "\n",
    "rf_cm = confusion_matrix(y_test, rf_pred)\n",
    "rf_report = classification_report(y_test, rf_pred)\n",
    "\n",
    "lr_cm = confusion_matrix(y_test, lr_pred)\n",
    "lr_report = classification_report(y_test, lr_pred)\n",
    "\n",
    "print(\"Random Forest Accuracy:\", rf_accuracy)\n",
    "print(\"Logistic Regression Accuracy:\", lr_accuracy)"
   ]
  },
  {
   "cell_type": "code",
   "execution_count": 25,
   "id": "744fa4b7-a990-4379-a705-77dad2341b90",
   "metadata": {},
   "outputs": [
    {
     "name": "stdout",
     "output_type": "stream",
     "text": [
      "Random Forest Confusion Matrix:\n",
      " [[7273   76]\n",
      " [  73 8789]]\n",
      "Random Forest Classification Report:\n",
      "               precision    recall  f1-score   support\n",
      "\n",
      "           0       0.99      0.99      0.99      7349\n",
      "           1       0.99      0.99      0.99      8862\n",
      "\n",
      "    accuracy                           0.99     16211\n",
      "   macro avg       0.99      0.99      0.99     16211\n",
      "weighted avg       0.99      0.99      0.99     16211\n",
      "\n"
     ]
    }
   ],
   "source": [
    "print(\"Random Forest Confusion Matrix:\\n\", rf_cm)\n",
    "print(\"Random Forest Classification Report:\\n\", rf_report)"
   ]
  },
  {
   "cell_type": "code",
   "execution_count": 27,
   "id": "9a172db3-06d6-4e98-9c41-11103ca594e7",
   "metadata": {},
   "outputs": [
    {
     "name": "stdout",
     "output_type": "stream",
     "text": [
      "Logistic Regression Confusion Matrix:\n",
      " [[3930 3419]\n",
      " [2497 6365]]\n",
      "Logistic Regression Classification Report:\n",
      "               precision    recall  f1-score   support\n",
      "\n",
      "           0       0.61      0.53      0.57      7349\n",
      "           1       0.65      0.72      0.68      8862\n",
      "\n",
      "    accuracy                           0.64     16211\n",
      "   macro avg       0.63      0.63      0.63     16211\n",
      "weighted avg       0.63      0.64      0.63     16211\n",
      "\n"
     ]
    }
   ],
   "source": [
    "print(\"Logistic Regression Confusion Matrix:\\n\", lr_cm)\n",
    "print(\"Logistic Regression Classification Report:\\n\", lr_report)"
   ]
  },
  {
   "cell_type": "code",
   "execution_count": 34,
   "id": "c80bf5b0-5329-48c9-a529-133aae2bb5c9",
   "metadata": {},
   "outputs": [
    {
     "data": {
      "image/png": "[encoded data removed]",
      "text/plain": [
       "<Figure size 800x500 with 1 Axes>"
      ]
     },
     "metadata": {},
     "output_type": "display_data"
    }
   ],
   "source": [
    "from sklearn.cluster import KMeans\n",
    "import matplotlib.pyplot as plt\n",
    "\n",
    "wcss = []\n",
    "for i in range(1, 11):\n",
    "    kmeans = KMeans(n_clusters=i, random_state=42)\n",
    "    kmeans.fit(X)\n",
    "    wcss.append(kmeans.inertia_)\n",
    "\n",
    "plt.figure(figsize=(8,5))\n",
    "plt.plot(range(1, 11), wcss, marker='o', linestyle='--')\n",
    "plt.title('Elbow KMeans')\n",
    "plt.xlabel('Number of clusters')\n",
    "plt.ylabel('WCSS')\n",
    "plt.show()"
   ]
  },
  {
   "cell_type": "code",
   "execution_count": 33,
   "id": "9c66e08e-09df-4604-9e98-6f68ec1f7437",
   "metadata": {},
   "outputs": [
    {
     "data": {
      "image/png": "[encoded data removed]",
      "text/plain": [
       "<Figure size 800x500 with 1 Axes>"
      ]
     },
     "metadata": {},
     "output_type": "display_data"
    }
   ],
   "source": [
    "from sklearn.metrics import silhouette_score\n",
    "\n",
    "silhouette_scores = []\n",
    "for i in range(2, 11):\n",
    "    kmeans = KMeans(n_clusters=i, random_state=42)\n",
    "    kmeans.fit(X)\n",
    "    score = silhouette_score(X, kmeans.labels_)\n",
    "    silhouette_scores.append(score)\n",
    "\n",
    "plt.figure(figsize=(8,5))\n",
    "plt.plot(range(2, 11), silhouette_scores, marker='o', linestyle='--')\n",
    "plt.title('Silhouette KMeans')\n",
    "plt.xlabel('Number of clusters')\n",
    "plt.ylabel('Silhouette Score')\n",
    "plt.show()"
   ]
  }
 ],
 "metadata": {
  "kernelspec": {
   "display_name": "Python 3 (ipykernel)",
   "language": "python",
   "name": "python3"
  },
  "language_info": {
   "codemirror_mode": {
    "name": "ipython",
    "version": 3
   },
   "file_extension": ".py",
   "mimetype": "text/x-python",
   "name": "python",
   "nbconvert_exporter": "python",
   "pygments_lexer": "ipython3",
   "version": "3.12.4"
  }
 },
 "nbformat": 4,
 "nbformat_minor": 5
}
