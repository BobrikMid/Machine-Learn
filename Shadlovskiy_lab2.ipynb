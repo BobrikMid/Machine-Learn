{
 "cells": [
  {
   "cell_type": "code",
   "execution_count": 48,
   "id": "10f74b3e-f252-4b3a-8142-d212c7ff6205",
   "metadata": {},
   "outputs": [
    {
     "data": {
      "text/html": [
       "<div>\n",
       "<style scoped>\n",
       "    .dataframe tbody tr th:only-of-type {\n",
       "        vertical-align: middle;\n",
       "    }\n",
       "\n",
       "    .dataframe tbody tr th {\n",
       "        vertical-align: top;\n",
       "    }\n",
       "\n",
       "    .dataframe thead th {\n",
       "        text-align: right;\n",
       "    }\n",
       "</style>\n",
       "<table border=\"1\" class=\"dataframe\">\n",
       "  <thead>\n",
       "    <tr style=\"text-align: right;\">\n",
       "      <th></th>\n",
       "      <th>Country</th>\n",
       "      <th>IMF_Forecast</th>\n",
       "      <th>IMF_2024</th>\n",
       "      <th>WorldBank_Estimate</th>\n",
       "      <th>WorldBank_2023</th>\n",
       "      <th>UN_Estimate</th>\n",
       "      <th>UN_2022</th>\n",
       "    </tr>\n",
       "  </thead>\n",
       "  <tbody>\n",
       "    <tr>\n",
       "      <th>0</th>\n",
       "      <td>World</td>\n",
       "      <td>109529216.0</td>\n",
       "      <td>2024.000000</td>\n",
       "      <td>105435540.0</td>\n",
       "      <td>2023.000000</td>\n",
       "      <td>100834796.0</td>\n",
       "      <td>2022.0</td>\n",
       "    </tr>\n",
       "    <tr>\n",
       "      <th>1</th>\n",
       "      <td>United States</td>\n",
       "      <td>28781083.0</td>\n",
       "      <td>2024.000000</td>\n",
       "      <td>27360935.0</td>\n",
       "      <td>2023.000000</td>\n",
       "      <td>25744100.0</td>\n",
       "      <td>2022.0</td>\n",
       "    </tr>\n",
       "    <tr>\n",
       "      <th>2</th>\n",
       "      <td>China</td>\n",
       "      <td>18532633.0</td>\n",
       "      <td>2023.962366</td>\n",
       "      <td>17794782.0</td>\n",
       "      <td>2022.903061</td>\n",
       "      <td>17963170.0</td>\n",
       "      <td>2022.0</td>\n",
       "    </tr>\n",
       "    <tr>\n",
       "      <th>3</th>\n",
       "      <td>Germany</td>\n",
       "      <td>4591100.0</td>\n",
       "      <td>2024.000000</td>\n",
       "      <td>4456081.0</td>\n",
       "      <td>2023.000000</td>\n",
       "      <td>4076923.0</td>\n",
       "      <td>2022.0</td>\n",
       "    </tr>\n",
       "    <tr>\n",
       "      <th>4</th>\n",
       "      <td>Japan</td>\n",
       "      <td>4110452.0</td>\n",
       "      <td>2024.000000</td>\n",
       "      <td>4212945.0</td>\n",
       "      <td>2023.000000</td>\n",
       "      <td>4232173.0</td>\n",
       "      <td>2022.0</td>\n",
       "    </tr>\n",
       "  </tbody>\n",
       "</table>\n",
       "</div>"
      ],
      "text/plain": [
       "         Country  IMF_Forecast     IMF_2024  WorldBank_Estimate  \\\n",
       "0          World   109529216.0  2024.000000         105435540.0   \n",
       "1  United States    28781083.0  2024.000000          27360935.0   \n",
       "2          China    18532633.0  2023.962366          17794782.0   \n",
       "3        Germany     4591100.0  2024.000000           4456081.0   \n",
       "4          Japan     4110452.0  2024.000000           4212945.0   \n",
       "\n",
       "   WorldBank_2023  UN_Estimate  UN_2022  \n",
       "0     2023.000000  100834796.0   2022.0  \n",
       "1     2023.000000   25744100.0   2022.0  \n",
       "2     2022.903061   17963170.0   2022.0  \n",
       "3     2023.000000    4076923.0   2022.0  \n",
       "4     2023.000000    4232173.0   2022.0  "
      ]
     },
     "execution_count": 48,
     "metadata": {},
     "output_type": "execute_result"
    }
   ],
   "source": [
    "import pandas as pd\n",
    "import numpy as np\n",
    "table = pd.read_html(\"https://en.wikipedia.org/wiki/List_of_countries_by_GDP_(nominal)\")\n",
    "df = tables[2]\n",
    "df.head()"
   ]
  },
  {
   "cell_type": "code",
   "execution_count": 38,
   "id": "50b60860-974a-47bc-a173-c6dafb7cbabf",
   "metadata": {},
   "outputs": [
    {
     "data": {
      "text/plain": [
       "Index(['Country', 'IMF_Forecast', 'IMF_2024', 'WorldBank_Estimate',\n",
       "       'WorldBank_2023', 'UN_Estimate', 'UN_2022'],\n",
       "      dtype='object')"
      ]
     },
     "execution_count": 38,
     "metadata": {},
     "output_type": "execute_result"
    }
   ],
   "source": [
    "df.columns"
   ]
  },
  {
   "cell_type": "code",
   "execution_count": 39,
   "id": "c1aa2c20-2a0f-497b-8dde-3436f6b57873",
   "metadata": {},
   "outputs": [
    {
     "data": {
      "text/plain": [
       "(210, 7)"
      ]
     },
     "execution_count": 39,
     "metadata": {},
     "output_type": "execute_result"
    }
   ],
   "source": [
    "df.shape"
   ]
  },
  {
   "cell_type": "code",
   "execution_count": 49,
   "id": "c1f26b57-5bf1-4b7a-8e55-ffcefe437a61",
   "metadata": {},
   "outputs": [
    {
     "data": {
      "text/html": [
       "<div>\n",
       "<style scoped>\n",
       "    .dataframe tbody tr th:only-of-type {\n",
       "        vertical-align: middle;\n",
       "    }\n",
       "\n",
       "    .dataframe tbody tr th {\n",
       "        vertical-align: top;\n",
       "    }\n",
       "\n",
       "    .dataframe thead th {\n",
       "        text-align: right;\n",
       "    }\n",
       "</style>\n",
       "<table border=\"1\" class=\"dataframe\">\n",
       "  <thead>\n",
       "    <tr style=\"text-align: right;\">\n",
       "      <th></th>\n",
       "      <th>Country</th>\n",
       "      <th>IMF_Forecast</th>\n",
       "      <th>IMF_2024</th>\n",
       "      <th>WorldBank_Estimate</th>\n",
       "      <th>WorldBank_2023</th>\n",
       "      <th>UN_Estimate</th>\n",
       "      <th>UN_2022</th>\n",
       "    </tr>\n",
       "  </thead>\n",
       "  <tbody>\n",
       "    <tr>\n",
       "      <th>0</th>\n",
       "      <td>World</td>\n",
       "      <td>109529216.0</td>\n",
       "      <td>2024.000000</td>\n",
       "      <td>105435540.0</td>\n",
       "      <td>2023.000000</td>\n",
       "      <td>100834796.0</td>\n",
       "      <td>2022.0</td>\n",
       "    </tr>\n",
       "    <tr>\n",
       "      <th>1</th>\n",
       "      <td>United States</td>\n",
       "      <td>28781083.0</td>\n",
       "      <td>2024.000000</td>\n",
       "      <td>27360935.0</td>\n",
       "      <td>2023.000000</td>\n",
       "      <td>25744100.0</td>\n",
       "      <td>2022.0</td>\n",
       "    </tr>\n",
       "    <tr>\n",
       "      <th>2</th>\n",
       "      <td>China</td>\n",
       "      <td>18532633.0</td>\n",
       "      <td>2023.962366</td>\n",
       "      <td>17794782.0</td>\n",
       "      <td>2022.903061</td>\n",
       "      <td>17963170.0</td>\n",
       "      <td>2022.0</td>\n",
       "    </tr>\n",
       "    <tr>\n",
       "      <th>3</th>\n",
       "      <td>Germany</td>\n",
       "      <td>4591100.0</td>\n",
       "      <td>2024.000000</td>\n",
       "      <td>4456081.0</td>\n",
       "      <td>2023.000000</td>\n",
       "      <td>4076923.0</td>\n",
       "      <td>2022.0</td>\n",
       "    </tr>\n",
       "    <tr>\n",
       "      <th>4</th>\n",
       "      <td>Japan</td>\n",
       "      <td>4110452.0</td>\n",
       "      <td>2024.000000</td>\n",
       "      <td>4212945.0</td>\n",
       "      <td>2023.000000</td>\n",
       "      <td>4232173.0</td>\n",
       "      <td>2022.0</td>\n",
       "    </tr>\n",
       "  </tbody>\n",
       "</table>\n",
       "</div>"
      ],
      "text/plain": [
       "         Country  IMF_Forecast     IMF_2024  WorldBank_Estimate  \\\n",
       "0          World   109529216.0  2024.000000         105435540.0   \n",
       "1  United States    28781083.0  2024.000000          27360935.0   \n",
       "2          China    18532633.0  2023.962366          17794782.0   \n",
       "3        Germany     4591100.0  2024.000000           4456081.0   \n",
       "4          Japan     4110452.0  2024.000000           4212945.0   \n",
       "\n",
       "   WorldBank_2023  UN_Estimate  UN_2022  \n",
       "0     2023.000000  100834796.0   2022.0  \n",
       "1     2023.000000   25744100.0   2022.0  \n",
       "2     2022.903061   17963170.0   2022.0  \n",
       "3     2023.000000    4076923.0   2022.0  \n",
       "4     2023.000000    4232173.0   2022.0  "
      ]
     },
     "execution_count": 49,
     "metadata": {},
     "output_type": "execute_result"
    }
   ],
   "source": [
    "new_columns = [\n",
    "    'Country', \n",
    "    'IMF_Forecast', \n",
    "    'IMF_2024', \n",
    "    'WorldBank_Estimate', \n",
    "    'WorldBank_2023', \n",
    "    'UN_Estimate', \n",
    "    'UN_2022'\n",
    "]\n",
    "\n",
    "df.columns = new_columns\n",
    "df.head()"
   ]
  },
  {
   "cell_type": "code",
   "execution_count": 50,
   "id": "252bb9eb-4e88-4d95-8f30-c7e6e320bed7",
   "metadata": {},
   "outputs": [],
   "source": [
    "df = df[\n",
    "    (df['IMF_2024'] == 2024) & \n",
    "    (df['WorldBank_2023'] == 2023) & \n",
    "    (df['UN_2022'] == 2022)\n",
    "]\n"
   ]
  },
  {
   "cell_type": "code",
   "execution_count": 42,
   "id": "df1916c3-5a73-4fc6-badb-29850c91f6b6",
   "metadata": {},
   "outputs": [
    {
     "data": {
      "text/plain": [
       "Country                object\n",
       "IMF_Forecast          float64\n",
       "IMF_2024              float64\n",
       "WorldBank_Estimate    float64\n",
       "WorldBank_2023        float64\n",
       "UN_Estimate           float64\n",
       "UN_2022               float64\n",
       "dtype: object"
      ]
     },
     "execution_count": 42,
     "metadata": {},
     "output_type": "execute_result"
    }
   ],
   "source": [
    "df.dtypes"
   ]
  },
  {
   "cell_type": "code",
   "execution_count": 52,
   "id": "4fd81cf0-cda1-4e7a-ba40-f4d3fb888ba1",
   "metadata": {},
   "outputs": [
    {
     "name": "stdout",
     "output_type": "stream",
     "text": [
      "ксть пропущених у кожному стовбці:\n",
      "Country               0\n",
      "IMF_Forecast          0\n",
      "IMF_2024              0\n",
      "WorldBank_Estimate    0\n",
      "WorldBank_2023        0\n",
      "UN_Estimate           0\n",
      "UN_2022               0\n",
      "dtype: int64\n"
     ]
    }
   ],
   "source": [
    "df.replace(\"—\", np.nan)\n",
    "print(\"ксть пропущених у кожному стовбці:\")\n",
    "print(df.isnull().sum())"
   ]
  },
  {
   "cell_type": "code",
   "execution_count": 54,
   "id": "74db37b1-ed3a-41aa-9156-b1a320d03dc8",
   "metadata": {},
   "outputs": [],
   "source": [
    "num_columns = ['IMF_Forecast', 'IMF_2024', 'WorldBank_Estimate', 'WorldBank_2023', 'UN_Estimate', 'UN_2022']\n",
    "df.loc[:, num_columns] = df.loc[:, num_columns].apply(pd.to_numeric, errors='coerce')\n",
    "df.loc[:, num_columns] = df.loc[:, num_columns].fillna(df[num_columns].mean())"
   ]
  },
  {
   "cell_type": "code",
   "execution_count": 55,
   "id": "986aabaf-41aa-47a1-98ab-5e87ca3309a7",
   "metadata": {},
   "outputs": [
    {
     "name": "stdout",
     "output_type": "stream",
     "text": [
      "ксть пропущених у кожному стовбці:\n",
      "Country               0\n",
      "IMF_Forecast          0\n",
      "IMF_2024              0\n",
      "WorldBank_Estimate    0\n",
      "WorldBank_2023        0\n",
      "UN_Estimate           0\n",
      "UN_2022               0\n",
      "dtype: int64\n"
     ]
    }
   ],
   "source": [
    "print(\"ксть пропущених у кожному стовбці:\")\n",
    "print(df.isnull().sum())"
   ]
  },
  {
   "cell_type": "code",
   "execution_count": 56,
   "id": "7d9c72fd-43ee-4527-83ac-c5792024a9ce",
   "metadata": {},
   "outputs": [
    {
     "name": "stdout",
     "output_type": "stream",
     "text": [
      "0\n"
     ]
    }
   ],
   "source": [
    "print(df.duplicated().sum())\n",
    "df = df.drop_duplicates()"
   ]
  },
  {
   "cell_type": "code",
   "execution_count": 57,
   "id": "065740a4-2685-44bb-ab13-f82204765bdc",
   "metadata": {},
   "outputs": [
    {
     "name": "stdout",
     "output_type": "stream",
     "text": [
      "0\n"
     ]
    }
   ],
   "source": [
    "print(df.duplicated().sum())"
   ]
  },
  {
   "cell_type": "code",
   "execution_count": 58,
   "id": "a7f9a039-0f69-4875-8676-65fc8f0a673f",
   "metadata": {},
   "outputs": [
    {
     "data": {
      "text/html": [
       "<div>\n",
       "<style scoped>\n",
       "    .dataframe tbody tr th:only-of-type {\n",
       "        vertical-align: middle;\n",
       "    }\n",
       "\n",
       "    .dataframe tbody tr th {\n",
       "        vertical-align: top;\n",
       "    }\n",
       "\n",
       "    .dataframe thead th {\n",
       "        text-align: right;\n",
       "    }\n",
       "</style>\n",
       "<table border=\"1\" class=\"dataframe\">\n",
       "  <thead>\n",
       "    <tr style=\"text-align: right;\">\n",
       "      <th></th>\n",
       "      <th>IMF_Forecast</th>\n",
       "      <th>IMF_2024</th>\n",
       "      <th>WorldBank_Estimate</th>\n",
       "      <th>WorldBank_2023</th>\n",
       "      <th>UN_Estimate</th>\n",
       "      <th>UN_2022</th>\n",
       "    </tr>\n",
       "  </thead>\n",
       "  <tbody>\n",
       "    <tr>\n",
       "      <th>count</th>\n",
       "      <td>1.730000e+02</td>\n",
       "      <td>173.0</td>\n",
       "      <td>1.730000e+02</td>\n",
       "      <td>173.0</td>\n",
       "      <td>1.730000e+02</td>\n",
       "      <td>173.0</td>\n",
       "    </tr>\n",
       "    <tr>\n",
       "      <th>mean</th>\n",
       "      <td>1.144960e+06</td>\n",
       "      <td>2024.0</td>\n",
       "      <td>1.099545e+06</td>\n",
       "      <td>2023.0</td>\n",
       "      <td>1.047349e+06</td>\n",
       "      <td>2022.0</td>\n",
       "    </tr>\n",
       "    <tr>\n",
       "      <th>std</th>\n",
       "      <td>8.599875e+06</td>\n",
       "      <td>0.0</td>\n",
       "      <td>8.272107e+06</td>\n",
       "      <td>0.0</td>\n",
       "      <td>7.903346e+06</td>\n",
       "      <td>0.0</td>\n",
       "    </tr>\n",
       "    <tr>\n",
       "      <th>min</th>\n",
       "      <td>6.600000e+01</td>\n",
       "      <td>2024.0</td>\n",
       "      <td>6.200000e+01</td>\n",
       "      <td>2023.0</td>\n",
       "      <td>5.900000e+01</td>\n",
       "      <td>2022.0</td>\n",
       "    </tr>\n",
       "    <tr>\n",
       "      <th>25%</th>\n",
       "      <td>1.295300e+04</td>\n",
       "      <td>2024.0</td>\n",
       "      <td>1.314900e+04</td>\n",
       "      <td>2023.0</td>\n",
       "      <td>1.255800e+04</td>\n",
       "      <td>2022.0</td>\n",
       "    </tr>\n",
       "    <tr>\n",
       "      <th>50%</th>\n",
       "      <td>4.933400e+04</td>\n",
       "      <td>2024.0</td>\n",
       "      <td>4.853000e+04</td>\n",
       "      <td>2023.0</td>\n",
       "      <td>4.434100e+04</td>\n",
       "      <td>2022.0</td>\n",
       "    </tr>\n",
       "    <tr>\n",
       "      <th>75%</th>\n",
       "      <td>3.080550e+05</td>\n",
       "      <td>2024.0</td>\n",
       "      <td>3.308580e+05</td>\n",
       "      <td>2023.0</td>\n",
       "      <td>2.905270e+05</td>\n",
       "      <td>2022.0</td>\n",
       "    </tr>\n",
       "    <tr>\n",
       "      <th>max</th>\n",
       "      <td>1.095292e+08</td>\n",
       "      <td>2024.0</td>\n",
       "      <td>1.054355e+08</td>\n",
       "      <td>2023.0</td>\n",
       "      <td>1.008348e+08</td>\n",
       "      <td>2022.0</td>\n",
       "    </tr>\n",
       "  </tbody>\n",
       "</table>\n",
       "</div>"
      ],
      "text/plain": [
       "       IMF_Forecast  IMF_2024  WorldBank_Estimate  WorldBank_2023  \\\n",
       "count  1.730000e+02     173.0        1.730000e+02           173.0   \n",
       "mean   1.144960e+06    2024.0        1.099545e+06          2023.0   \n",
       "std    8.599875e+06       0.0        8.272107e+06             0.0   \n",
       "min    6.600000e+01    2024.0        6.200000e+01          2023.0   \n",
       "25%    1.295300e+04    2024.0        1.314900e+04          2023.0   \n",
       "50%    4.933400e+04    2024.0        4.853000e+04          2023.0   \n",
       "75%    3.080550e+05    2024.0        3.308580e+05          2023.0   \n",
       "max    1.095292e+08    2024.0        1.054355e+08          2023.0   \n",
       "\n",
       "        UN_Estimate  UN_2022  \n",
       "count  1.730000e+02    173.0  \n",
       "mean   1.047349e+06   2022.0  \n",
       "std    7.903346e+06      0.0  \n",
       "min    5.900000e+01   2022.0  \n",
       "25%    1.255800e+04   2022.0  \n",
       "50%    4.434100e+04   2022.0  \n",
       "75%    2.905270e+05   2022.0  \n",
       "max    1.008348e+08   2022.0  "
      ]
     },
     "execution_count": 58,
     "metadata": {},
     "output_type": "execute_result"
    }
   ],
   "source": [
    "df.describe()"
   ]
  },
  {
   "cell_type": "code",
   "execution_count": 62,
   "id": "b53c540c-0a81-4813-9353-85de3104cbf3",
   "metadata": {},
   "outputs": [
    {
     "name": "stdout",
     "output_type": "stream",
     "text": [
      "Топ 10 з відхиленням IMF_2024 і WorldBank_2023:\n",
      "           Country  IMF_2024  WorldBank_2023  Difference\n",
      "0            World    2024.0          2023.0         1.0\n",
      "1    United States    2024.0          2023.0         1.0\n",
      "3          Germany    2024.0          2023.0         1.0\n",
      "4            Japan    2024.0          2023.0         1.0\n",
      "5            India    2024.0          2023.0         1.0\n",
      "6   United Kingdom    2024.0          2023.0         1.0\n",
      "7           France    2024.0          2023.0         1.0\n",
      "8           Brazil    2024.0          2023.0         1.0\n",
      "9            Italy    2024.0          2023.0         1.0\n",
      "10          Canada    2024.0          2023.0         1.0\n"
     ]
    }
   ],
   "source": [
    "df['Difference'] = df['IMF_2024'] - df['WorldBank_2023']\n",
    "max_difference_countries = df.loc[df['Difference'].abs().nlargest(10).index]\n",
    "print(\"Топ 10 з відхиленням IMF_2024 і WorldBank_2023:\")\n",
    "print(max_difference_countries[['Country', 'IMF_2024', 'WorldBank_2023', 'Difference']])"
   ]
  },
  {
   "cell_type": "markdown",
   "id": "a80a5dae-992c-4591-9fe6-3126586a89cb",
   "metadata": {},
   "source": [
    "Таке поріняння немає сенсу так як в цих стовцях значення років :)\n",
    "Нижче представленне альтернативне рішення з використанням естімейт"
   ]
  },
  {
   "cell_type": "code",
   "execution_count": 63,
   "id": "94bfb94c-639a-4bed-b6a4-0ee1ad63b336",
   "metadata": {},
   "outputs": [
    {
     "name": "stdout",
     "output_type": "stream",
     "text": [
      "Топ 10 з відхиленням IMF_2024 і WorldBank_2023:\n",
      "           Country  IMF_2024  WorldBank_2023  Difference\n",
      "0            World    2024.0          2023.0   4093676.0\n",
      "1    United States    2024.0          2023.0   1420148.0\n",
      "5            India    2024.0          2023.0    387092.0\n",
      "12          Mexico    2024.0          2023.0    228138.0\n",
      "8           Brazil    2024.0          2023.0    157725.0\n",
      "6   United Kingdom    2024.0          2023.0    155229.0\n",
      "3          Germany    2024.0          2023.0    135019.0\n",
      "54         Nigeria    2024.0          2023.0   -110077.0\n",
      "16       Indonesia    2024.0          2023.0    104519.0\n",
      "4            Japan    2024.0          2023.0   -102493.0\n"
     ]
    }
   ],
   "source": [
    "df['Difference'] = df['IMF_Forecast'] - df['WorldBank_Estimate']\n",
    "max_difference_countries = df.loc[df['Difference'].abs().nlargest(10).index]\n",
    "print(\"Топ 10 з відхиленням IMF_2024 і WorldBank_2023:\")\n",
    "print(max_difference_countries[['Country', 'IMF_2024', 'WorldBank_2023', 'Difference']])"
   ]
  },
  {
   "cell_type": "code",
   "execution_count": 67,
   "id": "1fd70d22-6caa-477f-8dba-e64759979251",
   "metadata": {},
   "outputs": [
    {
     "name": "stdout",
     "output_type": "stream",
     "text": [
      "матриця кореляцій:\n",
      "                    IMF_Forecast  WorldBank_Estimate  UN_Estimate\n",
      "IMF_Forecast            1.000000            0.999987     0.999939\n",
      "WorldBank_Estimate      0.999987            1.000000     0.999972\n",
      "UN_Estimate             0.999939            0.999972     1.000000\n",
      "Дві змінних з найбільшою кореляцією:\n",
      "WorldBank_Estimate  IMF_Forecast    0.999987\n",
      "dtype: float64\n"
     ]
    }
   ],
   "source": [
    "correlation_matrix = df[['IMF_Forecast', 'WorldBank_Estimate', 'UN_Estimate']].corr()\n",
    "print(\"матриця кореляцій:\")\n",
    "print(correlation_matrix)\n",
    "high_correlation = correlation_matrix.unstack().sort_values(ascending=False)\n",
    "high_correlation = high_correlation[high_correlation < 1].nlargest(1)\n",
    "\n",
    "print(\"Дві змінних з найбільшою кореляцією:\")\n",
    "print(high_correlation)"
   ]
  },
  {
   "cell_type": "code",
   "execution_count": 76,
   "id": "43a530b2-e6fb-4ef6-9d8d-e32c895d6b88",
   "metadata": {},
   "outputs": [
    {
     "name": "stdout",
     "output_type": "stream",
     "text": [
      "IMF: 1144959.8786127167\n",
      "World Bank: 1099545.0462427745\n",
      "UN: 1047349.0404624278\n",
      "\n",
      "зміни 24-23 років: 45414.83236994222\n",
      "\n",
      "зміни 23-22 років: 52196.00578034669\n"
     ]
    }
   ],
   "source": [
    "mean_imf = df['IMF_Forecast'].mean()\n",
    "mean_wb = df['WorldBank_Estimate'].mean()\n",
    "mean_un = df['UN_Estimate'].mean()\n",
    "print(\"IMF:\",mean_imf)\n",
    "print(\"World Bank:\",mean_wb)\n",
    "print(\"UN:\",mean_un)\n",
    "change_24_23 = mean_imf - mean_wb\n",
    "change_23_22 = mean_wb - mean_un\n",
    "print(\"\\nзміни 24-23 років:\",change_24_23)\n",
    "print(\"\\nзміни 23-22 років:\",change_23_22)"
   ]
  },
  {
   "cell_type": "code",
   "execution_count": 78,
   "id": "5c0082f4-a483-47b8-bbd3-7b54b700596d",
   "metadata": {},
   "outputs": [
    {
     "name": "stdout",
     "output_type": "stream",
     "text": [
      "Країна з найбільшим відхиленням по рокам:\n",
      "World\n"
     ]
    }
   ],
   "source": [
    "df['std_dev'] = df[['IMF_Forecast', 'WorldBank_Estimate', 'UN_Estimate']].std(axis=1)\n",
    "var_country = df.loc[df['std_dev'].idxmax()]\n",
    "print(\"Країна з найбільшим відхиленням по рокам:\")\n",
    "print(var_country['Country'])"
   ]
  },
  {
   "cell_type": "code",
   "execution_count": 79,
   "id": "faf671e7-9c57-446c-a026-af68b874c837",
   "metadata": {},
   "outputs": [
    {
     "name": "stdout",
     "output_type": "stream",
     "text": [
      "Країна з найвищим показником для IMF_Forecast:\n",
      "Країна: World , Показник: 109529216.0\n",
      "\n",
      "Країна з найнижчим показником для IMF_Forecast:\n",
      "Країна: Tuvalu , Показник: 66.0\n",
      "\n",
      "Країна з найвищим показником для WorldBank_Estimate:\n",
      "Країна: World , Показник: 105435540.0\n",
      "\n",
      "Країна з найнижчим показником для WorldBank_Estimate:\n",
      "Країна: Tuvalu , Показник: 62.0\n",
      "\n",
      "Країна з найвищим показником для UN_Estimate:\n",
      "Країна: World , Показник: 100834796.0\n",
      "\n",
      "Країна з найнижчим показником для UN_Estimate:\n",
      "Країна: Tuvalu , Показник: 59.0\n"
     ]
    }
   ],
   "source": [
    "max_imf = df.loc[df['IMF_Forecast'].idxmax()]\n",
    "min_imf = df.loc[df['IMF_Forecast'].idxmin()]\n",
    "max_wb = df.loc[df['WorldBank_Estimate'].idxmax()]\n",
    "min_wb = df.loc[df['WorldBank_Estimate'].idxmin()]\n",
    "max_un = df.loc[df['UN_Estimate'].idxmax()]\n",
    "min_un = df.loc[df['UN_Estimate'].idxmin()]\n",
    "print(\"Країна з найвищим показником для IMF_Forecast:\")\n",
    "print(\"Країна:\", max_imf['Country'], \", Показник:\", max_imf['IMF_Forecast'])\n",
    "print(\"\\nКраїна з найнижчим показником для IMF_Forecast:\")\n",
    "print(\"Країна:\", min_imf['Country'], \", Показник:\", min_imf['IMF_Forecast'])\n",
    "\n",
    "print(\"\\nКраїна з найвищим показником для WorldBank_Estimate:\")\n",
    "print(\"Країна:\", max_wb['Country'], \", Показник:\", max_wb['WorldBank_Estimate'])\n",
    "print(\"\\nКраїна з найнижчим показником для WorldBank_Estimate:\")\n",
    "print(\"Країна:\", min_wb['Country'], \", Показник:\", min_wb['WorldBank_Estimate'])\n",
    "\n",
    "print(\"\\nКраїна з найвищим показником для UN_Estimate:\")\n",
    "print(\"Країна:\", max_un['Country'], \", Показник:\", max_un['UN_Estimate'])\n",
    "print(\"\\nКраїна з найнижчим показником для UN_Estimate:\")\n",
    "print(\"Країна:\", min_un['Country'], \", Показник:\", min_un['UN_Estimate'])"
   ]
  },
  {
   "cell_type": "code",
   "execution_count": 84,
   "id": "8706d178-0a7d-4279-8ebb-91a55b31d91c",
   "metadata": {},
   "outputs": [
    {
     "data": {
      "image/png": "[encoded data removed]",
      "text/plain": [
       "<Figure size 1200x800 with 1 Axes>"
      ]
     },
     "metadata": {},
     "output_type": "display_data"
    }
   ],
   "source": [
    "import matplotlib.pyplot as plt\n",
    "df_top_10 = df.head(10)\n",
    "plt.figure(figsize=(12, 8))\n",
    "positions = np.arange(len(df_top_10['Country'])) * 2  \n",
    "plt.bar(positions, df_top_10['IMF_Forecast'], color='skyblue', width=0.8)\n",
    "plt.xticks(positions, df_top_10['Country'], rotation=90)\n",
    "plt.title('IMF_Forecast')\n",
    "plt.xlabel('Країни')\n",
    "plt.ylabel('IMF_Forecast (2024)')\n",
    "plt.tight_layout()\n",
    "plt.show()"
   ]
  },
  {
   "cell_type": "code",
   "execution_count": 86,
   "id": "89e754a3-6e06-42ec-ac84-7554f956fd89",
   "metadata": {},
   "outputs": [
    {
     "name": "stdout",
     "output_type": "stream",
     "text": [
      "частки країн в загальному значенні для кожного року:\n",
      "         Country  Share_IMF_2024  Share_WB_2023  Share_UN_2022\n",
      "0          World        0.552960       0.554278       0.556510\n",
      "1  United States        0.145302       0.143837       0.142082\n",
      "3        Germany        0.023178       0.023426       0.022501\n",
      "4          Japan        0.020752       0.022148       0.023357\n",
      "5          India        0.019876       0.018662       0.019126\n",
      "\n",
      "Зміни часток між 2024 і 2023:\n",
      "          Country  Change_IMF_WB\n",
      "1   United States       0.001464\n",
      "5           India       0.001214\n",
      "12         Mexico       0.000779\n",
      "8          Brazil       0.000343\n",
      "16      Indonesia       0.000242\n",
      "35           Iran       0.000233\n",
      "58       Ethiopia       0.000175\n",
      "37       Malaysia       0.000148\n",
      "49     Kazakhstan       0.000124\n",
      "31         Norway       0.000108\n",
      "\n",
      "Зміни часток між 2023 і 2022:\n",
      "           Country  Change_WB_UN\n",
      "1    United States      0.001755\n",
      "12          Mexico      0.001328\n",
      "3          Germany      0.000925\n",
      "8           Brazil      0.000830\n",
      "18          Turkey      0.000819\n",
      "7           France      0.000617\n",
      "9            Italy      0.000557\n",
      "6   United Kingdom      0.000510\n",
      "15           Spain      0.000496\n",
      "21          Poland      0.000467\n"
     ]
    }
   ],
   "source": [
    "total_imf = df['IMF_Forecast'].sum()\n",
    "total_wb = df['WorldBank_Estimate'].sum()\n",
    "total_un = df['UN_Estimate'].sum()\n",
    "\n",
    "df['Share_IMF_2024'] = df['IMF_Forecast'] / total_imf\n",
    "df['Share_WB_2023'] = df['WorldBank_Estimate'] / total_wb\n",
    "df['Share_UN_2022'] = df['UN_Estimate'] / total_un\n",
    "\n",
    "print(\"частки країн в загальному значенні для кожного року:\")\n",
    "print(df[['Country', 'Share_IMF_2024', 'Share_WB_2023', 'Share_UN_2022']].head())\n",
    "\n",
    "df['Change_IMF_WB'] = df['Share_IMF_2024'] - df['Share_WB_2023']\n",
    "df['Change_WB_UN'] = df['Share_WB_2023'] - df['Share_UN_2022']\n",
    "\n",
    "print(\"\\nЗміни часток між 2024 і 2023:\")\n",
    "print(df[['Country', 'Change_IMF_WB']].sort_values(by='Change_IMF_WB', ascending=False).head(10))\n",
    "\n",
    "print(\"\\nЗміни часток між 2023 і 2022:\")\n",
    "print(df[['Country', 'Change_WB_UN']].sort_values(by='Change_WB_UN', ascending=False).head(10))"
   ]
  },
  {
   "cell_type": "code",
   "execution_count": 87,
   "id": "30812dee-7996-471b-941e-12c7fbc7edac",
   "metadata": {},
   "outputs": [
    {
     "data": {
      "image/png": "[encoded data removed]",
      "text/plain": [
       "<Figure size 1400x800 with 1 Axes>"
      ]
     },
     "metadata": {},
     "output_type": "display_data"
    }
   ],
   "source": [
    "df_top_10 = df.head(10)\n",
    "plt.figure(figsize=(14, 8))\n",
    "\n",
    "for index, row in df_top_10.iterrows():\n",
    "    plt.plot(['2022', '2023', '2024'], \n",
    "             [row['UN_Estimate'], row['WorldBank_Estimate'], row['IMF_Forecast']], \n",
    "             marker='o', label=row['Country'])\n",
    "\n",
    "plt.title('Зміни в показниках для кожної країни за 2022, 2023, 2024 роки')\n",
    "plt.xlabel('Роки')\n",
    "plt.ylabel('Показники (Estimate / Forecast)')\n",
    "plt.legend(loc='upper left', bbox_to_anchor=(1, 1))\n",
    "plt.tight_layout()\n",
    "plt.show()"
   ]
  },
  {
   "cell_type": "code",
   "execution_count": 88,
   "id": "048f1397-b4d2-4d49-87d3-a9dcf00adc67",
   "metadata": {},
   "outputs": [
    {
     "data": {
      "image/png": "[encoded data removed]",
      "text/plain": [
       "<Figure size 1400x800 with 1 Axes>"
      ]
     },
     "metadata": {},
     "output_type": "display_data"
    }
   ],
   "source": [
    "df = df[df['Country'] != 'World']\n",
    "df_top_10 = df.head(10)\n",
    "plt.figure(figsize=(14, 8))\n",
    "\n",
    "for index, row in df_top_10.iterrows():\n",
    "    plt.plot(['2022', '2023', '2024'], \n",
    "             [row['UN_Estimate'], row['WorldBank_Estimate'], row['IMF_Forecast']], \n",
    "             marker='o', label=row['Country'])\n",
    "\n",
    "plt.title('Зміни в показниках для кожної країни за 2022, 2023, 2024 роки')\n",
    "plt.xlabel('Роки')\n",
    "plt.ylabel('Показники (Estimate / Forecast)')\n",
    "plt.legend(loc='upper left', bbox_to_anchor=(1, 1))\n",
    "plt.tight_layout()\n",
    "plt.show()"
   ]
  },
  {
   "cell_type": "markdown",
   "id": "4b078989-6cfd-4cf6-8514-a1997a92b8da",
   "metadata": {},
   "source": [
    "Спробував прибрати рядок World, щоб краще було видно результати по країнам, але вийшла аналогічна ситуація але з америкою)\n",
    "Висновок: Загальний аналіз показав різні тенденції серед країн, ріст, спад та варіантивність показників між роками."
   ]
  },
  {
   "cell_type": "markdown",
   "id": "5091f935-846b-44d9-b404-daf02a3b9fdc",
   "metadata": {},
   "source": [
    "Завдання 2"
   ]
  },
  {
   "cell_type": "code",
   "execution_count": 90,
   "id": "5de228d0-6450-4c29-af6d-e508064442cd",
   "metadata": {},
   "outputs": [],
   "source": [
    "df_titanic = pd.read_csv(r'C:\\Users\\faika\\Downloads\\titanic.csv')"
   ]
  },
  {
   "cell_type": "code",
   "execution_count": 92,
   "id": "ff081985-2900-4ad9-8bcc-c39e51e3ca51",
   "metadata": {},
   "outputs": [
    {
     "data": {
      "text/html": [
       "<div>\n",
       "<style scoped>\n",
       "    .dataframe tbody tr th:only-of-type {\n",
       "        vertical-align: middle;\n",
       "    }\n",
       "\n",
       "    .dataframe tbody tr th {\n",
       "        vertical-align: top;\n",
       "    }\n",
       "\n",
       "    .dataframe thead th {\n",
       "        text-align: right;\n",
       "    }\n",
       "</style>\n",
       "<table border=\"1\" class=\"dataframe\">\n",
       "  <thead>\n",
       "    <tr style=\"text-align: right;\">\n",
       "      <th></th>\n",
       "      <th>PassengerId</th>\n",
       "      <th>Survived</th>\n",
       "      <th>Pclass</th>\n",
       "      <th>Name</th>\n",
       "      <th>Sex</th>\n",
       "      <th>Age</th>\n",
       "      <th>SibSp</th>\n",
       "      <th>Parch</th>\n",
       "      <th>Ticket</th>\n",
       "      <th>Fare</th>\n",
       "      <th>Cabin</th>\n",
       "      <th>Embarked</th>\n",
       "    </tr>\n",
       "  </thead>\n",
       "  <tbody>\n",
       "    <tr>\n",
       "      <th>0</th>\n",
       "      <td>892</td>\n",
       "      <td>0</td>\n",
       "      <td>3</td>\n",
       "      <td>Kelly, Mr. James</td>\n",
       "      <td>male</td>\n",
       "      <td>34.5</td>\n",
       "      <td>0</td>\n",
       "      <td>0</td>\n",
       "      <td>330911</td>\n",
       "      <td>7.8292</td>\n",
       "      <td>NaN</td>\n",
       "      <td>Q</td>\n",
       "    </tr>\n",
       "    <tr>\n",
       "      <th>1</th>\n",
       "      <td>893</td>\n",
       "      <td>1</td>\n",
       "      <td>3</td>\n",
       "      <td>Wilkes, Mrs. James (Ellen Needs)</td>\n",
       "      <td>female</td>\n",
       "      <td>47.0</td>\n",
       "      <td>1</td>\n",
       "      <td>0</td>\n",
       "      <td>363272</td>\n",
       "      <td>7.0000</td>\n",
       "      <td>NaN</td>\n",
       "      <td>S</td>\n",
       "    </tr>\n",
       "    <tr>\n",
       "      <th>2</th>\n",
       "      <td>894</td>\n",
       "      <td>0</td>\n",
       "      <td>2</td>\n",
       "      <td>Myles, Mr. Thomas Francis</td>\n",
       "      <td>male</td>\n",
       "      <td>62.0</td>\n",
       "      <td>0</td>\n",
       "      <td>0</td>\n",
       "      <td>240276</td>\n",
       "      <td>9.6875</td>\n",
       "      <td>NaN</td>\n",
       "      <td>Q</td>\n",
       "    </tr>\n",
       "    <tr>\n",
       "      <th>3</th>\n",
       "      <td>895</td>\n",
       "      <td>0</td>\n",
       "      <td>3</td>\n",
       "      <td>Wirz, Mr. Albert</td>\n",
       "      <td>male</td>\n",
       "      <td>27.0</td>\n",
       "      <td>0</td>\n",
       "      <td>0</td>\n",
       "      <td>315154</td>\n",
       "      <td>8.6625</td>\n",
       "      <td>NaN</td>\n",
       "      <td>S</td>\n",
       "    </tr>\n",
       "    <tr>\n",
       "      <th>4</th>\n",
       "      <td>896</td>\n",
       "      <td>1</td>\n",
       "      <td>3</td>\n",
       "      <td>Hirvonen, Mrs. Alexander (Helga E Lindqvist)</td>\n",
       "      <td>female</td>\n",
       "      <td>22.0</td>\n",
       "      <td>1</td>\n",
       "      <td>1</td>\n",
       "      <td>3101298</td>\n",
       "      <td>12.2875</td>\n",
       "      <td>NaN</td>\n",
       "      <td>S</td>\n",
       "    </tr>\n",
       "  </tbody>\n",
       "</table>\n",
       "</div>"
      ],
      "text/plain": [
       "   PassengerId  Survived  Pclass  \\\n",
       "0          892         0       3   \n",
       "1          893         1       3   \n",
       "2          894         0       2   \n",
       "3          895         0       3   \n",
       "4          896         1       3   \n",
       "\n",
       "                                           Name     Sex   Age  SibSp  Parch  \\\n",
       "0                              Kelly, Mr. James    male  34.5      0      0   \n",
       "1              Wilkes, Mrs. James (Ellen Needs)  female  47.0      1      0   \n",
       "2                     Myles, Mr. Thomas Francis    male  62.0      0      0   \n",
       "3                              Wirz, Mr. Albert    male  27.0      0      0   \n",
       "4  Hirvonen, Mrs. Alexander (Helga E Lindqvist)  female  22.0      1      1   \n",
       "\n",
       "    Ticket     Fare Cabin Embarked  \n",
       "0   330911   7.8292   NaN        Q  \n",
       "1   363272   7.0000   NaN        S  \n",
       "2   240276   9.6875   NaN        Q  \n",
       "3   315154   8.6625   NaN        S  \n",
       "4  3101298  12.2875   NaN        S  "
      ]
     },
     "execution_count": 92,
     "metadata": {},
     "output_type": "execute_result"
    }
   ],
   "source": [
    "df_titanic.head()"
   ]
  },
  {
   "cell_type": "code",
   "execution_count": 93,
   "id": "2e902128-1244-4b5a-8529-20aa38df81e0",
   "metadata": {},
   "outputs": [
    {
     "data": {
      "text/plain": [
       "(418, 12)"
      ]
     },
     "execution_count": 93,
     "metadata": {},
     "output_type": "execute_result"
    }
   ],
   "source": [
    "df_titanic.shape"
   ]
  },
  {
   "cell_type": "code",
   "execution_count": 94,
   "id": "3e06bd5b-db00-4f73-9bed-cc218db7503b",
   "metadata": {},
   "outputs": [
    {
     "data": {
      "text/plain": [
       "PassengerId      int64\n",
       "Survived         int64\n",
       "Pclass           int64\n",
       "Name            object\n",
       "Sex             object\n",
       "Age            float64\n",
       "SibSp            int64\n",
       "Parch            int64\n",
       "Ticket          object\n",
       "Fare           float64\n",
       "Cabin           object\n",
       "Embarked        object\n",
       "dtype: object"
      ]
     },
     "execution_count": 94,
     "metadata": {},
     "output_type": "execute_result"
    }
   ],
   "source": [
    "df_titanic.dtypes"
   ]
  },
  {
   "cell_type": "code",
   "execution_count": 95,
   "id": "d4e5948a-7e30-49e0-8a72-b8eea728eab7",
   "metadata": {},
   "outputs": [
    {
     "data": {
      "text/plain": [
       "PassengerId      0\n",
       "Survived         0\n",
       "Pclass           0\n",
       "Name             0\n",
       "Sex              0\n",
       "Age             86\n",
       "SibSp            0\n",
       "Parch            0\n",
       "Ticket           0\n",
       "Fare             1\n",
       "Cabin          327\n",
       "Embarked         0\n",
       "dtype: int64"
      ]
     },
     "execution_count": 95,
     "metadata": {},
     "output_type": "execute_result"
    }
   ],
   "source": [
    "df_titanic.isnull().sum()"
   ]
  },
  {
   "cell_type": "code",
   "execution_count": 97,
   "id": "206297b8-3fc4-4123-b8b8-29ec05795d35",
   "metadata": {},
   "outputs": [],
   "source": [
    "numeric_columns = df_titanic.select_dtypes(include=['float64', 'int64']).columns\n",
    "df_titanic[numeric_columns] = df_titanic[numeric_columns].fillna(df_titanic[numeric_columns].mean())"
   ]
  },
  {
   "cell_type": "code",
   "execution_count": 98,
   "id": "2e2bfb6c-8513-42ca-8396-ee19354e5051",
   "metadata": {},
   "outputs": [
    {
     "data": {
      "text/plain": [
       "PassengerId      0\n",
       "Survived         0\n",
       "Pclass           0\n",
       "Name             0\n",
       "Sex              0\n",
       "Age              0\n",
       "SibSp            0\n",
       "Parch            0\n",
       "Ticket           0\n",
       "Fare             0\n",
       "Cabin          327\n",
       "Embarked         0\n",
       "dtype: int64"
      ]
     },
     "execution_count": 98,
     "metadata": {},
     "output_type": "execute_result"
    }
   ],
   "source": [
    "df_titanic.isnull().sum()"
   ]
  },
  {
   "cell_type": "code",
   "execution_count": 99,
   "id": "89ae6422-4747-49ad-b5f2-9fdd146f332d",
   "metadata": {},
   "outputs": [
    {
     "data": {
      "text/plain": [
       "0       NaN\n",
       "1       NaN\n",
       "2       NaN\n",
       "3       NaN\n",
       "4       NaN\n",
       "       ... \n",
       "413     NaN\n",
       "414    C105\n",
       "415     NaN\n",
       "416     NaN\n",
       "417     NaN\n",
       "Name: Cabin, Length: 418, dtype: object"
      ]
     },
     "execution_count": 99,
     "metadata": {},
     "output_type": "execute_result"
    }
   ],
   "source": [
    "df_titanic['Cabin']"
   ]
  },
  {
   "cell_type": "code",
   "execution_count": 104,
   "id": "2ce42244-2ed9-4d5c-b7c6-a2eab9c844b5",
   "metadata": {},
   "outputs": [
    {
     "data": {
      "text/plain": [
       "0      False\n",
       "1      False\n",
       "2      False\n",
       "3      False\n",
       "4      False\n",
       "       ...  \n",
       "413    False\n",
       "414    False\n",
       "415    False\n",
       "416    False\n",
       "417    False\n",
       "Length: 418, dtype: bool"
      ]
     },
     "execution_count": 104,
     "metadata": {},
     "output_type": "execute_result"
    }
   ],
   "source": [
    "df_titanic.duplicated()"
   ]
  },
  {
   "cell_type": "code",
   "execution_count": 101,
   "id": "e7569458-2fad-4b33-9fb7-9c0f6f604c9f",
   "metadata": {},
   "outputs": [],
   "source": [
    "df_titanic = df_titanic.drop_duplicates()"
   ]
  },
  {
   "cell_type": "code",
   "execution_count": 105,
   "id": "d321ed02-f4a3-47bf-b737-8deb2132256b",
   "metadata": {},
   "outputs": [
    {
     "data": {
      "text/html": [
       "<div>\n",
       "<style scoped>\n",
       "    .dataframe tbody tr th:only-of-type {\n",
       "        vertical-align: middle;\n",
       "    }\n",
       "\n",
       "    .dataframe tbody tr th {\n",
       "        vertical-align: top;\n",
       "    }\n",
       "\n",
       "    .dataframe thead th {\n",
       "        text-align: right;\n",
       "    }\n",
       "</style>\n",
       "<table border=\"1\" class=\"dataframe\">\n",
       "  <thead>\n",
       "    <tr style=\"text-align: right;\">\n",
       "      <th></th>\n",
       "      <th>PassengerId</th>\n",
       "      <th>Survived</th>\n",
       "      <th>Pclass</th>\n",
       "      <th>Age</th>\n",
       "      <th>SibSp</th>\n",
       "      <th>Parch</th>\n",
       "      <th>Fare</th>\n",
       "    </tr>\n",
       "  </thead>\n",
       "  <tbody>\n",
       "    <tr>\n",
       "      <th>count</th>\n",
       "      <td>418.000000</td>\n",
       "      <td>418.000000</td>\n",
       "      <td>418.000000</td>\n",
       "      <td>418.000000</td>\n",
       "      <td>418.000000</td>\n",
       "      <td>418.000000</td>\n",
       "      <td>418.000000</td>\n",
       "    </tr>\n",
       "    <tr>\n",
       "      <th>mean</th>\n",
       "      <td>1100.500000</td>\n",
       "      <td>0.363636</td>\n",
       "      <td>2.265550</td>\n",
       "      <td>30.272590</td>\n",
       "      <td>0.447368</td>\n",
       "      <td>0.392344</td>\n",
       "      <td>35.627188</td>\n",
       "    </tr>\n",
       "    <tr>\n",
       "      <th>std</th>\n",
       "      <td>120.810458</td>\n",
       "      <td>0.481622</td>\n",
       "      <td>0.841838</td>\n",
       "      <td>12.634534</td>\n",
       "      <td>0.896760</td>\n",
       "      <td>0.981429</td>\n",
       "      <td>55.840500</td>\n",
       "    </tr>\n",
       "    <tr>\n",
       "      <th>min</th>\n",
       "      <td>892.000000</td>\n",
       "      <td>0.000000</td>\n",
       "      <td>1.000000</td>\n",
       "      <td>0.170000</td>\n",
       "      <td>0.000000</td>\n",
       "      <td>0.000000</td>\n",
       "      <td>0.000000</td>\n",
       "    </tr>\n",
       "    <tr>\n",
       "      <th>25%</th>\n",
       "      <td>996.250000</td>\n",
       "      <td>0.000000</td>\n",
       "      <td>1.000000</td>\n",
       "      <td>23.000000</td>\n",
       "      <td>0.000000</td>\n",
       "      <td>0.000000</td>\n",
       "      <td>7.895800</td>\n",
       "    </tr>\n",
       "    <tr>\n",
       "      <th>50%</th>\n",
       "      <td>1100.500000</td>\n",
       "      <td>0.000000</td>\n",
       "      <td>3.000000</td>\n",
       "      <td>30.272590</td>\n",
       "      <td>0.000000</td>\n",
       "      <td>0.000000</td>\n",
       "      <td>14.454200</td>\n",
       "    </tr>\n",
       "    <tr>\n",
       "      <th>75%</th>\n",
       "      <td>1204.750000</td>\n",
       "      <td>1.000000</td>\n",
       "      <td>3.000000</td>\n",
       "      <td>35.750000</td>\n",
       "      <td>1.000000</td>\n",
       "      <td>0.000000</td>\n",
       "      <td>31.500000</td>\n",
       "    </tr>\n",
       "    <tr>\n",
       "      <th>max</th>\n",
       "      <td>1309.000000</td>\n",
       "      <td>1.000000</td>\n",
       "      <td>3.000000</td>\n",
       "      <td>76.000000</td>\n",
       "      <td>8.000000</td>\n",
       "      <td>9.000000</td>\n",
       "      <td>512.329200</td>\n",
       "    </tr>\n",
       "  </tbody>\n",
       "</table>\n",
       "</div>"
      ],
      "text/plain": [
       "       PassengerId    Survived      Pclass         Age       SibSp  \\\n",
       "count   418.000000  418.000000  418.000000  418.000000  418.000000   \n",
       "mean   1100.500000    0.363636    2.265550   30.272590    0.447368   \n",
       "std     120.810458    0.481622    0.841838   12.634534    0.896760   \n",
       "min     892.000000    0.000000    1.000000    0.170000    0.000000   \n",
       "25%     996.250000    0.000000    1.000000   23.000000    0.000000   \n",
       "50%    1100.500000    0.000000    3.000000   30.272590    0.000000   \n",
       "75%    1204.750000    1.000000    3.000000   35.750000    1.000000   \n",
       "max    1309.000000    1.000000    3.000000   76.000000    8.000000   \n",
       "\n",
       "            Parch        Fare  \n",
       "count  418.000000  418.000000  \n",
       "mean     0.392344   35.627188  \n",
       "std      0.981429   55.840500  \n",
       "min      0.000000    0.000000  \n",
       "25%      0.000000    7.895800  \n",
       "50%      0.000000   14.454200  \n",
       "75%      0.000000   31.500000  \n",
       "max      9.000000  512.329200  "
      ]
     },
     "execution_count": 105,
     "metadata": {},
     "output_type": "execute_result"
    }
   ],
   "source": [
    "df_titanic.describe()"
   ]
  },
  {
   "cell_type": "code",
   "execution_count": 106,
   "id": "6d59bc82-a73d-4eac-a491-9c4dda5015fa",
   "metadata": {},
   "outputs": [],
   "source": [
    "df_titanic.drop(columns=['Cabin'], inplace=True)"
   ]
  },
  {
   "cell_type": "code",
   "execution_count": 125,
   "id": "9846e5eb-0639-4fea-a36f-8d616249c746",
   "metadata": {},
   "outputs": [
    {
     "data": {
      "text/html": [
       "<div>\n",
       "<style scoped>\n",
       "    .dataframe tbody tr th:only-of-type {\n",
       "        vertical-align: middle;\n",
       "    }\n",
       "\n",
       "    .dataframe tbody tr th {\n",
       "        vertical-align: top;\n",
       "    }\n",
       "\n",
       "    .dataframe thead th {\n",
       "        text-align: right;\n",
       "    }\n",
       "</style>\n",
       "<table border=\"1\" class=\"dataframe\">\n",
       "  <thead>\n",
       "    <tr style=\"text-align: right;\">\n",
       "      <th></th>\n",
       "      <th>Survived</th>\n",
       "      <th>Pclass</th>\n",
       "      <th>Sex</th>\n",
       "      <th>Age</th>\n",
       "      <th>Fare</th>\n",
       "    </tr>\n",
       "  </thead>\n",
       "  <tbody>\n",
       "    <tr>\n",
       "      <th>0</th>\n",
       "      <td>0</td>\n",
       "      <td>3</td>\n",
       "      <td>1</td>\n",
       "      <td>34.50000</td>\n",
       "      <td>7.8292</td>\n",
       "    </tr>\n",
       "    <tr>\n",
       "      <th>1</th>\n",
       "      <td>1</td>\n",
       "      <td>3</td>\n",
       "      <td>0</td>\n",
       "      <td>47.00000</td>\n",
       "      <td>7.0000</td>\n",
       "    </tr>\n",
       "    <tr>\n",
       "      <th>2</th>\n",
       "      <td>0</td>\n",
       "      <td>2</td>\n",
       "      <td>1</td>\n",
       "      <td>62.00000</td>\n",
       "      <td>9.6875</td>\n",
       "    </tr>\n",
       "    <tr>\n",
       "      <th>3</th>\n",
       "      <td>0</td>\n",
       "      <td>3</td>\n",
       "      <td>1</td>\n",
       "      <td>27.00000</td>\n",
       "      <td>8.6625</td>\n",
       "    </tr>\n",
       "    <tr>\n",
       "      <th>4</th>\n",
       "      <td>1</td>\n",
       "      <td>3</td>\n",
       "      <td>0</td>\n",
       "      <td>22.00000</td>\n",
       "      <td>12.2875</td>\n",
       "    </tr>\n",
       "    <tr>\n",
       "      <th>...</th>\n",
       "      <td>...</td>\n",
       "      <td>...</td>\n",
       "      <td>...</td>\n",
       "      <td>...</td>\n",
       "      <td>...</td>\n",
       "    </tr>\n",
       "    <tr>\n",
       "      <th>413</th>\n",
       "      <td>0</td>\n",
       "      <td>3</td>\n",
       "      <td>1</td>\n",
       "      <td>30.27259</td>\n",
       "      <td>8.0500</td>\n",
       "    </tr>\n",
       "    <tr>\n",
       "      <th>414</th>\n",
       "      <td>1</td>\n",
       "      <td>1</td>\n",
       "      <td>0</td>\n",
       "      <td>39.00000</td>\n",
       "      <td>108.9000</td>\n",
       "    </tr>\n",
       "    <tr>\n",
       "      <th>415</th>\n",
       "      <td>0</td>\n",
       "      <td>3</td>\n",
       "      <td>1</td>\n",
       "      <td>38.50000</td>\n",
       "      <td>7.2500</td>\n",
       "    </tr>\n",
       "    <tr>\n",
       "      <th>416</th>\n",
       "      <td>0</td>\n",
       "      <td>3</td>\n",
       "      <td>1</td>\n",
       "      <td>30.27259</td>\n",
       "      <td>8.0500</td>\n",
       "    </tr>\n",
       "    <tr>\n",
       "      <th>417</th>\n",
       "      <td>0</td>\n",
       "      <td>3</td>\n",
       "      <td>1</td>\n",
       "      <td>30.27259</td>\n",
       "      <td>22.3583</td>\n",
       "    </tr>\n",
       "  </tbody>\n",
       "</table>\n",
       "<p>418 rows × 5 columns</p>\n",
       "</div>"
      ],
      "text/plain": [
       "     Survived  Pclass  Sex       Age      Fare\n",
       "0           0       3    1  34.50000    7.8292\n",
       "1           1       3    0  47.00000    7.0000\n",
       "2           0       2    1  62.00000    9.6875\n",
       "3           0       3    1  27.00000    8.6625\n",
       "4           1       3    0  22.00000   12.2875\n",
       "..        ...     ...  ...       ...       ...\n",
       "413         0       3    1  30.27259    8.0500\n",
       "414         1       1    0  39.00000  108.9000\n",
       "415         0       3    1  38.50000    7.2500\n",
       "416         0       3    1  30.27259    8.0500\n",
       "417         0       3    1  30.27259   22.3583\n",
       "\n",
       "[418 rows x 5 columns]"
      ]
     },
     "execution_count": 125,
     "metadata": {},
     "output_type": "execute_result"
    }
   ],
   "source": [
    "selected_columns = ['Survived', 'Pclass', 'Sex', 'Age', 'Fare']\n",
    "df_selected = df_titanic[selected_columns]\n",
    "df_selected"
   ]
  },
  {
   "cell_type": "code",
   "execution_count": 127,
   "id": "bf573076-d02f-4026-9589-3969306a1c01",
   "metadata": {},
   "outputs": [
    {
     "name": "stdout",
     "output_type": "stream",
     "text": [
      "[1 0]\n"
     ]
    }
   ],
   "source": [
    "print(df_selected['Sex'].unique())"
   ]
  },
  {
   "cell_type": "code",
   "execution_count": 129,
   "id": "66d39a19-7f95-4008-b1ae-d029f23b0840",
   "metadata": {},
   "outputs": [
    {
     "name": "stdout",
     "output_type": "stream",
     "text": [
      "[nan]\n"
     ]
    },
    {
     "name": "stderr",
     "output_type": "stream",
     "text": [
      "C:\\Users\\faika\\AppData\\Local\\Temp\\ipykernel_37804\\2675550125.py:1: SettingWithCopyWarning: \n",
      "A value is trying to be set on a copy of a slice from a DataFrame.\n",
      "Try using .loc[row_indexer,col_indexer] = value instead\n",
      "\n",
      "See the caveats in the documentation: https://pandas.pydata.org/pandas-docs/stable/user_guide/indexing.html#returning-a-view-versus-a-copy\n",
      "  df_selected['Sex'] = df_selected['Sex'].map({'male': 1, 'female': 0})\n"
     ]
    }
   ],
   "source": [
    "df_selected['Sex'] = df_selected['Sex'].map({'male': 1, 'female': 0})\n",
    "print(df_selected['Sex'].unique())"
   ]
  },
  {
   "cell_type": "code",
   "execution_count": 132,
   "id": "e99f71c9-73ee-487f-ad1f-b2968ce2f98e",
   "metadata": {},
   "outputs": [
    {
     "data": {
      "text/plain": [
       "Survived      0\n",
       "Pclass        0\n",
       "Sex         418\n",
       "Age           0\n",
       "Fare          0\n",
       "dtype: int64"
      ]
     },
     "execution_count": 132,
     "metadata": {},
     "output_type": "execute_result"
    }
   ],
   "source": [
    "df_selected.isna().sum()"
   ]
  },
  {
   "cell_type": "code",
   "execution_count": 112,
   "id": "8110c2f3-5bb3-481a-a594-3d7a09c7dbca",
   "metadata": {},
   "outputs": [
    {
     "name": "stdout",
     "output_type": "stream",
     "text": [
      "перші 5 рядків\n"
     ]
    },
    {
     "data": {
      "text/html": [
       "<div>\n",
       "<style scoped>\n",
       "    .dataframe tbody tr th:only-of-type {\n",
       "        vertical-align: middle;\n",
       "    }\n",
       "\n",
       "    .dataframe tbody tr th {\n",
       "        vertical-align: top;\n",
       "    }\n",
       "\n",
       "    .dataframe thead th {\n",
       "        text-align: right;\n",
       "    }\n",
       "</style>\n",
       "<table border=\"1\" class=\"dataframe\">\n",
       "  <thead>\n",
       "    <tr style=\"text-align: right;\">\n",
       "      <th></th>\n",
       "      <th>PassengerId</th>\n",
       "      <th>Survived</th>\n",
       "      <th>Pclass</th>\n",
       "      <th>Name</th>\n",
       "      <th>Sex</th>\n",
       "      <th>Age</th>\n",
       "      <th>SibSp</th>\n",
       "      <th>Parch</th>\n",
       "      <th>Ticket</th>\n",
       "      <th>Fare</th>\n",
       "      <th>Embarked</th>\n",
       "    </tr>\n",
       "  </thead>\n",
       "  <tbody>\n",
       "    <tr>\n",
       "      <th>0</th>\n",
       "      <td>892</td>\n",
       "      <td>0</td>\n",
       "      <td>3</td>\n",
       "      <td>Kelly, Mr. James</td>\n",
       "      <td>1</td>\n",
       "      <td>34.5</td>\n",
       "      <td>0</td>\n",
       "      <td>0</td>\n",
       "      <td>330911</td>\n",
       "      <td>7.8292</td>\n",
       "      <td>Q</td>\n",
       "    </tr>\n",
       "    <tr>\n",
       "      <th>1</th>\n",
       "      <td>893</td>\n",
       "      <td>1</td>\n",
       "      <td>3</td>\n",
       "      <td>Wilkes, Mrs. James (Ellen Needs)</td>\n",
       "      <td>0</td>\n",
       "      <td>47.0</td>\n",
       "      <td>1</td>\n",
       "      <td>0</td>\n",
       "      <td>363272</td>\n",
       "      <td>7.0000</td>\n",
       "      <td>S</td>\n",
       "    </tr>\n",
       "    <tr>\n",
       "      <th>2</th>\n",
       "      <td>894</td>\n",
       "      <td>0</td>\n",
       "      <td>2</td>\n",
       "      <td>Myles, Mr. Thomas Francis</td>\n",
       "      <td>1</td>\n",
       "      <td>62.0</td>\n",
       "      <td>0</td>\n",
       "      <td>0</td>\n",
       "      <td>240276</td>\n",
       "      <td>9.6875</td>\n",
       "      <td>Q</td>\n",
       "    </tr>\n",
       "    <tr>\n",
       "      <th>3</th>\n",
       "      <td>895</td>\n",
       "      <td>0</td>\n",
       "      <td>3</td>\n",
       "      <td>Wirz, Mr. Albert</td>\n",
       "      <td>1</td>\n",
       "      <td>27.0</td>\n",
       "      <td>0</td>\n",
       "      <td>0</td>\n",
       "      <td>315154</td>\n",
       "      <td>8.6625</td>\n",
       "      <td>S</td>\n",
       "    </tr>\n",
       "    <tr>\n",
       "      <th>4</th>\n",
       "      <td>896</td>\n",
       "      <td>1</td>\n",
       "      <td>3</td>\n",
       "      <td>Hirvonen, Mrs. Alexander (Helga E Lindqvist)</td>\n",
       "      <td>0</td>\n",
       "      <td>22.0</td>\n",
       "      <td>1</td>\n",
       "      <td>1</td>\n",
       "      <td>3101298</td>\n",
       "      <td>12.2875</td>\n",
       "      <td>S</td>\n",
       "    </tr>\n",
       "  </tbody>\n",
       "</table>\n",
       "</div>"
      ],
      "text/plain": [
       "   PassengerId  Survived  Pclass  \\\n",
       "0          892         0       3   \n",
       "1          893         1       3   \n",
       "2          894         0       2   \n",
       "3          895         0       3   \n",
       "4          896         1       3   \n",
       "\n",
       "                                           Name  Sex   Age  SibSp  Parch  \\\n",
       "0                              Kelly, Mr. James    1  34.5      0      0   \n",
       "1              Wilkes, Mrs. James (Ellen Needs)    0  47.0      1      0   \n",
       "2                     Myles, Mr. Thomas Francis    1  62.0      0      0   \n",
       "3                              Wirz, Mr. Albert    1  27.0      0      0   \n",
       "4  Hirvonen, Mrs. Alexander (Helga E Lindqvist)    0  22.0      1      1   \n",
       "\n",
       "    Ticket     Fare Embarked  \n",
       "0   330911   7.8292        Q  \n",
       "1   363272   7.0000        S  \n",
       "2   240276   9.6875        Q  \n",
       "3   315154   8.6625        S  \n",
       "4  3101298  12.2875        S  "
      ]
     },
     "execution_count": 112,
     "metadata": {},
     "output_type": "execute_result"
    }
   ],
   "source": [
    "print('перші 5 рядків')\n",
    "df_titanic.head()"
   ]
  },
  {
   "cell_type": "code",
   "execution_count": 113,
   "id": "68f09d40-ba61-4498-9be0-fa89ec671edc",
   "metadata": {},
   "outputs": [
    {
     "name": "stdout",
     "output_type": "stream",
     "text": [
      "останні 5 рядків\n"
     ]
    },
    {
     "data": {
      "text/html": [
       "<div>\n",
       "<style scoped>\n",
       "    .dataframe tbody tr th:only-of-type {\n",
       "        vertical-align: middle;\n",
       "    }\n",
       "\n",
       "    .dataframe tbody tr th {\n",
       "        vertical-align: top;\n",
       "    }\n",
       "\n",
       "    .dataframe thead th {\n",
       "        text-align: right;\n",
       "    }\n",
       "</style>\n",
       "<table border=\"1\" class=\"dataframe\">\n",
       "  <thead>\n",
       "    <tr style=\"text-align: right;\">\n",
       "      <th></th>\n",
       "      <th>PassengerId</th>\n",
       "      <th>Survived</th>\n",
       "      <th>Pclass</th>\n",
       "      <th>Name</th>\n",
       "      <th>Sex</th>\n",
       "      <th>Age</th>\n",
       "      <th>SibSp</th>\n",
       "      <th>Parch</th>\n",
       "      <th>Ticket</th>\n",
       "      <th>Fare</th>\n",
       "      <th>Embarked</th>\n",
       "    </tr>\n",
       "  </thead>\n",
       "  <tbody>\n",
       "    <tr>\n",
       "      <th>413</th>\n",
       "      <td>1305</td>\n",
       "      <td>0</td>\n",
       "      <td>3</td>\n",
       "      <td>Spector, Mr. Woolf</td>\n",
       "      <td>1</td>\n",
       "      <td>30.27259</td>\n",
       "      <td>0</td>\n",
       "      <td>0</td>\n",
       "      <td>A.5. 3236</td>\n",
       "      <td>8.0500</td>\n",
       "      <td>S</td>\n",
       "    </tr>\n",
       "    <tr>\n",
       "      <th>414</th>\n",
       "      <td>1306</td>\n",
       "      <td>1</td>\n",
       "      <td>1</td>\n",
       "      <td>Oliva y Ocana, Dona. Fermina</td>\n",
       "      <td>0</td>\n",
       "      <td>39.00000</td>\n",
       "      <td>0</td>\n",
       "      <td>0</td>\n",
       "      <td>PC 17758</td>\n",
       "      <td>108.9000</td>\n",
       "      <td>C</td>\n",
       "    </tr>\n",
       "    <tr>\n",
       "      <th>415</th>\n",
       "      <td>1307</td>\n",
       "      <td>0</td>\n",
       "      <td>3</td>\n",
       "      <td>Saether, Mr. Simon Sivertsen</td>\n",
       "      <td>1</td>\n",
       "      <td>38.50000</td>\n",
       "      <td>0</td>\n",
       "      <td>0</td>\n",
       "      <td>SOTON/O.Q. 3101262</td>\n",
       "      <td>7.2500</td>\n",
       "      <td>S</td>\n",
       "    </tr>\n",
       "    <tr>\n",
       "      <th>416</th>\n",
       "      <td>1308</td>\n",
       "      <td>0</td>\n",
       "      <td>3</td>\n",
       "      <td>Ware, Mr. Frederick</td>\n",
       "      <td>1</td>\n",
       "      <td>30.27259</td>\n",
       "      <td>0</td>\n",
       "      <td>0</td>\n",
       "      <td>359309</td>\n",
       "      <td>8.0500</td>\n",
       "      <td>S</td>\n",
       "    </tr>\n",
       "    <tr>\n",
       "      <th>417</th>\n",
       "      <td>1309</td>\n",
       "      <td>0</td>\n",
       "      <td>3</td>\n",
       "      <td>Peter, Master. Michael J</td>\n",
       "      <td>1</td>\n",
       "      <td>30.27259</td>\n",
       "      <td>1</td>\n",
       "      <td>1</td>\n",
       "      <td>2668</td>\n",
       "      <td>22.3583</td>\n",
       "      <td>C</td>\n",
       "    </tr>\n",
       "  </tbody>\n",
       "</table>\n",
       "</div>"
      ],
      "text/plain": [
       "     PassengerId  Survived  Pclass                          Name  Sex  \\\n",
       "413         1305         0       3            Spector, Mr. Woolf    1   \n",
       "414         1306         1       1  Oliva y Ocana, Dona. Fermina    0   \n",
       "415         1307         0       3  Saether, Mr. Simon Sivertsen    1   \n",
       "416         1308         0       3           Ware, Mr. Frederick    1   \n",
       "417         1309         0       3      Peter, Master. Michael J    1   \n",
       "\n",
       "          Age  SibSp  Parch              Ticket      Fare Embarked  \n",
       "413  30.27259      0      0           A.5. 3236    8.0500        S  \n",
       "414  39.00000      0      0            PC 17758  108.9000        C  \n",
       "415  38.50000      0      0  SOTON/O.Q. 3101262    7.2500        S  \n",
       "416  30.27259      0      0              359309    8.0500        S  \n",
       "417  30.27259      1      1                2668   22.3583        C  "
      ]
     },
     "execution_count": 113,
     "metadata": {},
     "output_type": "execute_result"
    }
   ],
   "source": [
    "print('останні 5 рядків')\n",
    "df_titanic.tail()"
   ]
  },
  {
   "cell_type": "code",
   "execution_count": 123,
   "id": "3e303507-d752-4453-b06b-d5405cd9d92a",
   "metadata": {},
   "outputs": [
    {
     "data": {
      "text/plain": [
       "<pandas.core.groupby.generic.SeriesGroupBy object at 0x0000020A8D10E960>"
      ]
     },
     "execution_count": 123,
     "metadata": {},
     "output_type": "execute_result"
    }
   ],
   "source": [
    "df_titanic.groupby('Sex')['Survived']"
   ]
  },
  {
   "cell_type": "code",
   "execution_count": null,
   "id": "6a59608a-7637-4a07-b633-d8cab60ed57e",
   "metadata": {},
   "outputs": [],
   "source": []
  }
 ],
 "metadata": {
  "kernelspec": {
   "display_name": "Python 3 (ipykernel)",
   "language": "python",
   "name": "python3"
  },
  "language_info": {
   "codemirror_mode": {
    "name": "ipython",
    "version": 3
   },
   "file_extension": ".py",
   "mimetype": "text/x-python",
   "name": "python",
   "nbconvert_exporter": "python",
   "pygments_lexer": "ipython3",
   "version": "3.12.4"
  }
 },
 "nbformat": 4,
 "nbformat_minor": 5
}
