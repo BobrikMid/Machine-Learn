{
 "cells": [
  {
   "cell_type": "markdown",
   "id": "4d0cf794-81bd-4db6-9bee-753b5d0e4804",
   "metadata": {},
   "source": [
    "Завдання 1. В25. Створіть одновимірний масив (вектор) з сумами добутків двох попередніх чисел та \n",
    "їхнього суми, починаючи з 1, та виведіть його значення."
   ]
  },
  {
   "cell_type": "code",
   "execution_count": 5,
   "id": "7841e7b1-b463-4a50-9834-11be5a91b2b5",
   "metadata": {},
   "outputs": [
    {
     "name": "stdout",
     "output_type": "stream",
     "text": [
      "[ 1.  1.  3.  7. 31.]\n"
     ]
    }
   ],
   "source": [
    "import numpy as np\n",
    "n = 5\n",
    "array = np.zeros(n)\n",
    "array[0], array[1] = 1, 1 \n",
    "for i in range(2, n):\n",
    "    mult = array[i-1] * array[i-2]\n",
    "    sum_prev = array[i-1] + array[i-2]\n",
    "    array[i] = mult + sum_prev\n",
    "print(array)"
   ]
  },
  {
   "cell_type": "markdown",
   "id": "540893ac-c051-44b3-ae5d-90030a972a63",
   "metadata": {},
   "source": [
    "Завдання 2. В25. Створіть двовимірний масив (матрицю) розміром 3x3, заповніть його значеннями \n",
    "випадкових цілих чисел від -10 до 10.\n"
   ]
  },
  {
   "cell_type": "code",
   "execution_count": 4,
   "id": "a305b881-6db0-4172-942d-6d90aefe0f38",
   "metadata": {},
   "outputs": [
    {
     "name": "stdout",
     "output_type": "stream",
     "text": [
      "[[ -3  -4  -8]\n",
      " [  6   6   1]\n",
      " [-10  -8   5]]\n"
     ]
    }
   ],
   "source": [
    "mat = np.random.randint(-10, 11, size=(3, 3))\n",
    "print(mat)"
   ]
  },
  {
   "cell_type": "markdown",
   "id": "f97453d7-70c1-4323-8860-ef4e6096562b",
   "metadata": {},
   "source": [
    "Завдання 3. В25. Створіть масив розміром 5x5, заповніть його випадковими дійсними числами від 0 до \n",
    "1 та знайдіть відсоток чисел, які є простими."
   ]
  },
  {
   "cell_type": "code",
   "execution_count": 13,
   "id": "5ba52279-a60c-48ee-80ae-4168725de903",
   "metadata": {},
   "outputs": [
    {
     "name": "stdout",
     "output_type": "stream",
     "text": [
      "випадкові числа:\n",
      "[[0.93927341 0.46962453 0.42863147 0.26209653 0.87440186]\n",
      " [0.96154891 0.12859165 0.69737153 0.75009596 0.94721752]\n",
      " [0.3438613  0.19171578 0.90525399 0.8365918  0.20760243]\n",
      " [0.03937084 0.8731452  0.09626807 0.32054384 0.37350028]\n",
      " [0.12220922 0.48677735 0.03086771 0.70472589 0.70100549]]\n",
      "\n",
      "округлена матриця:\n",
      "[[94 47 43 26 87]\n",
      " [96 13 70 75 95]\n",
      " [34 19 91 84 21]\n",
      " [ 4 87 10 32 37]\n",
      " [12 49  3 70 70]]\n",
      "Відсоток простих чисел: 24.0 %\n"
     ]
    }
   ],
   "source": [
    "matrix = np.random.rand(5, 5)\n",
    "rounded_matrix = np.round(matrix * 100).astype(int)\n",
    "\n",
    "def is_prime(n):\n",
    "    if n <= 1:\n",
    "        return False\n",
    "    if n == 2 or n == 3:\n",
    "        return True\n",
    "    if n % 2 == 0 or n % 3 == 0:\n",
    "        return False\n",
    "    i = 5\n",
    "    while i * i <= n:\n",
    "        if n % i == 0 or n % (i + 2) == 0:\n",
    "            return False\n",
    "        i += 6\n",
    "    return True\n",
    "\n",
    "prime_count = np.sum(np.vectorize(is_prime)(rounded_matrix))\n",
    "total_elements = matrix.size\n",
    "perc = (prime_count / total_elements) * 100\n",
    "\n",
    "print(\"випадкові числа:\")\n",
    "print(matrix)\n",
    "print(\"\\nокруглена матриця:\")\n",
    "print(rounded_matrix)\n",
    "print(\"Відсоток простих чисел:\", perc,\"%\")"
   ]
  },
  {
   "cell_type": "markdown",
   "id": "b827d5e7-12fc-4d42-ac1c-54bb36577554",
   "metadata": {},
   "source": [
    "Завдання 4.В25. Створіть масив розміром 3x3, заповніть його випадковими дійсними числами в \n",
    "діапазоні від -1.1 до 1.1 та виведіть його значення."
   ]
  },
  {
   "cell_type": "code",
   "execution_count": 14,
   "id": "bc6bd33b-e129-465a-9213-02f7a214cb81",
   "metadata": {},
   "outputs": [
    {
     "name": "stdout",
     "output_type": "stream",
     "text": [
      "[[-0.07404784 -0.91832054  0.89012039]\n",
      " [ 0.31424143 -1.00262903 -0.9872368 ]\n",
      " [ 0.63305614  0.22427198  0.78060038]]\n"
     ]
    }
   ],
   "source": [
    "matrix = np.random.uniform(-1.1, 1.1, (3, 3))\n",
    "print(matrix)"
   ]
  },
  {
   "cell_type": "markdown",
   "id": "5eb7521d-7400-4f06-82ad-45393575308c",
   "metadata": {},
   "source": [
    "Завдання 5. В25. Створіть два одновимірних масиви розміром 4, заповніть їх випадковими цілими \n",
    "числами в діапазоні від 15 до 25 та виконайте на них поелементні операції додавання, \n",
    "віднімання та множення"
   ]
  },
  {
   "cell_type": "code",
   "execution_count": 17,
   "id": "89f4343f-82a9-406c-9b1b-2bbc71dffeec",
   "metadata": {},
   "outputs": [
    {
     "name": "stdout",
     "output_type": "stream",
     "text": [
      "array 1 [15 25 18 23]\n",
      "array 2 [17 20 21 24]\n",
      "add [32 45 39 47]\n",
      "sub [-2  5 -3 -1]\n",
      "mult [255 500 378 552]\n"
     ]
    }
   ],
   "source": [
    "arr1 = np.random.randint(15, 26, 4)\n",
    "arr2 = np.random.randint(15, 26, 4)\n",
    "\n",
    "add = arr1 + arr2\n",
    "sub = arr1 - arr2\n",
    "mult = arr1 * arr2\n",
    "print(\"array 1\", arr1)\n",
    "print(\"array 2\", arr2)\n",
    "print(\"add\", add)\n",
    "print(\"sub\",sub)\n",
    "print(\"mult\",mult)"
   ]
  },
  {
   "cell_type": "markdown",
   "id": "70a8e836-7d37-460d-8afb-94c1f3f0efb7",
   "metadata": {},
   "source": [
    "Завдання 6. В25. Створіть дві матриці 3x3, заповніть їх довільними цілими числами від 1 до 10 та \n",
    "знайдіть їх добуток.\n"
   ]
  },
  {
   "cell_type": "code",
   "execution_count": 19,
   "id": "6a794f1a-beaf-47b5-b407-faf497db96ed",
   "metadata": {},
   "outputs": [
    {
     "name": "stdout",
     "output_type": "stream",
     "text": [
      "[[ 57 177 108]\n",
      " [ 20  70  68]\n",
      " [ 16  37  30]]\n"
     ]
    }
   ],
   "source": [
    "matrix1 = np.random.randint(1, 11, (3, 3))\n",
    "matrix2 = np.random.randint(1, 11, (3, 3))\n",
    "print(np.dot(matrix1, matrix2))"
   ]
  },
  {
   "cell_type": "markdown",
   "id": "6083e256-c1b1-4e0a-ab3e-d6a6637f5b7c",
   "metadata": {},
   "source": [
    "Завдання 7.В25. Створіть дві матриці розміром 2x3 та 3x3, заповніть їх випадковими цілими числами \n",
    "в діапазоні від 1 до 5 та перемножте їх між собою"
   ]
  },
  {
   "cell_type": "code",
   "execution_count": 20,
   "id": "2a87cb9e-c3fb-46ba-8f26-41f5820a2010",
   "metadata": {},
   "outputs": [
    {
     "name": "stdout",
     "output_type": "stream",
     "text": [
      "[[23 24 32]\n",
      " [21 38 44]]\n"
     ]
    }
   ],
   "source": [
    "matrix1 = np.random.randint(1, 6, (2, 3))\n",
    "matrix2 = np.random.randint(1, 6, (3, 3))\n",
    "print(np.dot(matrix1, matrix2))"
   ]
  },
  {
   "cell_type": "markdown",
   "id": "62c285a1-e8ad-4b9e-9667-2743eeefb2c2",
   "metadata": {},
   "source": [
    "Завдання 8. В25. Створіть матрицю розміром 2x2, заповніть її випадковими цілими числами в діапазоні \n",
    "від 1 до 7 та знайдіть її обернену матрицю."
   ]
  },
  {
   "cell_type": "code",
   "execution_count": 24,
   "id": "bd3f9947-1cf1-4ed5-8921-89484c877e14",
   "metadata": {},
   "outputs": [
    {
     "name": "stdout",
     "output_type": "stream",
     "text": [
      "original matrix\n",
      " [[7 3]\n",
      " [7 1]]\n",
      "reversed matrix\n",
      " [[-0.07142857  0.21428571]\n",
      " [ 0.5        -0.5       ]]\n"
     ]
    }
   ],
   "source": [
    "matrix = np.random.randint(1, 8, (2, 2))\n",
    "inverse_matrix = np.linalg.inv(matrix)\n",
    "print(\"original matrix\\n\",matrix)\n",
    "print(\"reversed matrix\\n\",inverse_matrix)"
   ]
  },
  {
   "cell_type": "markdown",
   "id": "0eb62d44-0076-4f07-83e1-7d7c3dc50131",
   "metadata": {},
   "source": [
    "Завдання 9. В25. Створіть матрицю розміром 3x3, заповніть її випадковими дійсними числами в \n",
    "діапазоні від 5 до 10 та транспонуйте її.\n"
   ]
  },
  {
   "cell_type": "code",
   "execution_count": 29,
   "id": "e8e1c45e-2544-4e40-9669-17dd46a66c14",
   "metadata": {},
   "outputs": [
    {
     "name": "stdout",
     "output_type": "stream",
     "text": [
      "origin matrix\n",
      " [[9.18957005 9.14928532 5.25226956]\n",
      " [7.29420033 5.42564235 8.74262955]\n",
      " [6.34244598 9.09951197 9.62002245]]\n",
      "trans matrix\n",
      " [[9.18957005 7.29420033 6.34244598]\n",
      " [9.14928532 5.42564235 9.09951197]\n",
      " [5.25226956 8.74262955 9.62002245]]\n"
     ]
    }
   ],
   "source": [
    "matrix = np.random.uniform(5, 10, (3, 3))\n",
    "print(\"origin matrix\\n\",matrix)\n",
    "print(\"trans matrix\\n\",matrix.T)"
   ]
  },
  {
   "cell_type": "markdown",
   "id": "6f542433-02e3-44dd-9ad7-061e2873b1fd",
   "metadata": {},
   "source": [
    "Завдання 10.В25. Створіть матрицю розміром 3x4 та вектор розміром 4x1, заповніть матрицю \n",
    "випадковими дійсними числами від 0 до 1, а вектор - випадковими дійсними числами \n",
    "від 0 до 1, і знайдіть добуток матриці на вектор."
   ]
  },
  {
   "cell_type": "code",
   "execution_count": 36,
   "id": "cec67843-30a9-44a4-aca5-63c8952d77cb",
   "metadata": {},
   "outputs": [
    {
     "name": "stdout",
     "output_type": "stream",
     "text": [
      "matrix\n",
      " [[0.85048902 0.68177568 0.13580784 0.34236911]\n",
      " [0.86125129 0.33363363 0.35361034 0.21281798]\n",
      " [0.60460831 0.64531403 0.27057466 0.77554914]]\n",
      "vector\n",
      " [[0.11937108]\n",
      " [0.83440953]\n",
      " [0.91992798]\n",
      " [0.9999865 ]]\n",
      "dobytok\n",
      " [[1.13770184]\n",
      " [0.91930673]\n",
      " [1.6350768 ]]\n"
     ]
    }
   ],
   "source": [
    "matrix = np.random.rand(3, 4)\n",
    "vector = np.random.rand(4, 1)\n",
    "print(\"matrix\\n\",matrix)\n",
    "print(\"vector\\n\",vector)\n",
    "print(\"dobytok\\n\",np.dot(matrix, vector))"
   ]
  },
  {
   "cell_type": "markdown",
   "id": "faed94fd-e4d5-441a-9625-adc4f848ad60",
   "metadata": {},
   "source": [
    "Завдання 11.В25. Створіть матрицю розміром 2x3 та вектор розміром 3x1, заповніть матрицю \n",
    "випадковими цілими числами в діапазоні від 1 до 10, а вектор - випадковими цілими \n",
    "числами в діапазоні від 1 до 10, і знайдіть добуток матриці на вектор.\n"
   ]
  },
  {
   "cell_type": "code",
   "execution_count": 39,
   "id": "1fb38b04-48da-4695-957a-dc4a33d18a1f",
   "metadata": {},
   "outputs": [
    {
     "name": "stdout",
     "output_type": "stream",
     "text": [
      "matrix:\n",
      "[[ 3  1  8]\n",
      " [10  5  9]]\n",
      "vector:\n",
      "[[9]\n",
      " [1]\n",
      " [6]]\n",
      "matrix*vector:\n",
      "[[ 76]\n",
      " [149]]\n"
     ]
    }
   ],
   "source": [
    "matrix = np.random.randint(1, 11, (2, 3))\n",
    "vector = np.random.randint(1, 11, (3, 1))\n",
    "result = np.dot(matrix, vector)\n",
    "print(\"matrix:\")\n",
    "print(matrix)\n",
    "print(\"vector:\")\n",
    "print(vector)\n",
    "print(\"matrix*vector:\")\n",
    "print(result)"
   ]
  },
  {
   "cell_type": "markdown",
   "id": "7b5c82e6-cee6-4c1b-ae6a-c96d5e86a539",
   "metadata": {},
   "source": [
    "Завдання 12.В25. Створіть дві матриці розміром 2x2, заповніть їх випадковими цілими числами в \n",
    "діапазоні від -2 до 2 та знайдіть суму всіх елементів обох матриць"
   ]
  },
  {
   "cell_type": "code",
   "execution_count": 42,
   "id": "4256d798-d363-47fb-b25e-446e3af39010",
   "metadata": {},
   "outputs": [
    {
     "name": "stdout",
     "output_type": "stream",
     "text": [
      "matrix 1:\n",
      "[[ 2  2]\n",
      " [-2  1]]\n",
      "matrix2:\n",
      "[[-1  0]\n",
      " [-1 -1]]\n",
      "sum of elements: 0\n"
     ]
    }
   ],
   "source": [
    "matrix1 = np.random.randint(-2, 3, (2, 2))\n",
    "matrix2 = np.random.randint(-2, 3, (2, 2))\n",
    "total_sum = np.sum(matrix1) + np.sum(matrix2)\n",
    "print(\"matrix 1:\")\n",
    "print(matrix1)\n",
    "print(\"matrix2:\")\n",
    "print(matrix2)\n",
    "print(\"sum of elements:\",total_sum)"
   ]
  },
  {
   "cell_type": "markdown",
   "id": "d99a9fab-1345-46bf-86ca-f9817eb2365c",
   "metadata": {},
   "source": [
    "Завдання 13.В25. Створіть дві матриці розміром 3x3, заповніть їх випадковими дійсними числами в \n",
    "діапазоні від 0 до 1 та знайдіть суму їх елементів.\n"
   ]
  },
  {
   "cell_type": "code",
   "execution_count": 43,
   "id": "edcaf24c-22aa-4884-996a-40c1fdb5e24d",
   "metadata": {},
   "outputs": [
    {
     "name": "stdout",
     "output_type": "stream",
     "text": [
      "matrix 1:\n",
      "[[0.47898967 0.70775721 0.29787319]\n",
      " [0.18443886 0.26877228 0.80605963]\n",
      " [0.0567912  0.26782199 0.78494978]]\n",
      "\n",
      "matrix 2:\n",
      "[[0.7002281  0.27079877 0.86848724]\n",
      " [0.21084553 0.79465481 0.20579676]\n",
      " [0.02417164 0.95537531 0.22506491]]\n",
      "сума елекментів матриць: 8.108876857220109\n"
     ]
    }
   ],
   "source": [
    "matrix1 = np.random.rand(3, 3)\n",
    "matrix2 = np.random.rand(3, 3)\n",
    "total = np.sum(matrix1) + np.sum(matrix2)\n",
    "print(\"matrix 1:\")\n",
    "print(matrix1)\n",
    "print(\"\\nmatrix 2:\")\n",
    "print(matrix2)\n",
    "print(\"сума елекментів матриць:\",total)"
   ]
  },
  {
   "cell_type": "markdown",
   "id": "2cf173b5-f8c2-4618-a548-d8a170fc651b",
   "metadata": {},
   "source": [
    "Завдання 14. В25. Створіть матрицю розміром 3x3, заповніть її випадковими дійсними числами в \n",
    "діапазоні від -10 до 10 та знайдіть суму елементів на побічній діагоналі"
   ]
  },
  {
   "cell_type": "code",
   "execution_count": 44,
   "id": "a39618c5-0c2b-4f97-be15-760b355e746a",
   "metadata": {},
   "outputs": [
    {
     "name": "stdout",
     "output_type": "stream",
     "text": [
      "Matrix:\n",
      "[[ 0.47774084 -7.24210907  5.17387996]\n",
      " [ 1.68763766  2.02180666  1.16849869]\n",
      " [-6.54881235 -1.1240916   1.04368307]]\n",
      "sum of elements on side diagonal 0.646874268805318\n"
     ]
    }
   ],
   "source": [
    "matrix = np.random.uniform(-10, 10, (3, 3))\n",
    "diagonal_sum = np.sum(np.fliplr(matrix).diagonal())\n",
    "print(\"Matrix:\")\n",
    "print(matrix)\n",
    "print(\"sum of elements on side diagonal\", diagonal_sum)"
   ]
  },
  {
   "cell_type": "code",
   "execution_count": null,
   "id": "088487f9-dcaa-4390-b4db-e284ac6b958d",
   "metadata": {},
   "outputs": [],
   "source": [
    "Завдання 15.В25. Створіть матрицю розміром 3x3, заповніть її випадковими дійсними числами в \n",
    "діапазоні від 0 до 1 та знайдіть вектор-стовпчик, що містить найбільший елемент у \n",
    "кожному стовпці матриці"
   ]
  },
  {
   "cell_type": "code",
   "execution_count": 45,
   "id": "60031e76-9930-4d73-99d2-b00124edc504",
   "metadata": {},
   "outputs": [
    {
     "name": "stdout",
     "output_type": "stream",
     "text": [
      "matrix:\n",
      "[[0.39800268 0.69627565 0.57208194]\n",
      " [0.99430042 0.81561164 0.1424263 ]\n",
      " [0.42940736 0.44495761 0.18832071]]\n",
      "\n",
      "max num in each column:\n",
      "[[0.99430042]\n",
      " [0.81561164]\n",
      " [0.57208194]]\n"
     ]
    }
   ],
   "source": [
    "matrix = np.random.rand(3, 3)\n",
    "max_in_columns = np.max(matrix, axis=0)\n",
    "print(\"matrix:\")\n",
    "print(matrix)\n",
    "print(\"\\nmax num in each column:\")\n",
    "print(max_in_columns.reshape(-1, 1))"
   ]
  },
  {
   "cell_type": "markdown",
   "id": "ab403066-7f3b-4128-b9cb-f1f60ecc0224",
   "metadata": {},
   "source": [
    "Висновок:За цю лабораторну роботу були використані різні функції роботи з матрицями за допомогою бібліотеки numpy."
   ]
  }
 ],
 "metadata": {
  "kernelspec": {
   "display_name": "Python 3 (ipykernel)",
   "language": "python",
   "name": "python3"
  },
  "language_info": {
   "codemirror_mode": {
    "name": "ipython",
    "version": 3
   },
   "file_extension": ".py",
   "mimetype": "text/x-python",
   "name": "python",
   "nbconvert_exporter": "python",
   "pygments_lexer": "ipython3",
   "version": "3.12.4"
  }
 },
 "nbformat": 4,
 "nbformat_minor": 5
}
